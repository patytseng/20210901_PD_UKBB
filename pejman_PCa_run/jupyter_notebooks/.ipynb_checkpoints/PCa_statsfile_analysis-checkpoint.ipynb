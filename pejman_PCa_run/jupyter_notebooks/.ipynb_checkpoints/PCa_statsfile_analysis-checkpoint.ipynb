{
 "cells": [
  {
   "cell_type": "code",
   "execution_count": 17,
   "metadata": {
    "tags": []
   },
   "outputs": [],
   "source": [
    "library(tidyverse)\n",
    "library(stringr)\n",
    "library(ggplot2)\n",
    "library(data.table)"
   ]
  },
  {
   "cell_type": "code",
   "execution_count": 2,
   "metadata": {
    "tags": []
   },
   "outputs": [],
   "source": [
    "spectrum_generator <- function(count=100,coverage=2/3,offset=0,reverse=FALSE) {\n",
    "    tau = 2*pi\n",
    "    color = vector('list',3)\n",
    "    coverage = ((-1)^reverse)*coverage\n",
    "    offset = ((-1)^reverse)*offset\n",
    "    for (iter in 1:3) {\n",
    "        values = c()\n",
    "        theta = (offset + iter - 1) * tau/3\n",
    "        for (x in seq(0,tau*coverage,tau*coverage/(count-1))[1:count]) {\n",
    "            values = c(values, cos(x + theta)/2 + 0.5)\n",
    "        }\n",
    "        color[[iter]] = values\n",
    "    }\n",
    "    return(rgb(color[[1]],color[[2]],color[[3]]))\n",
    "}"
   ]
  },
  {
   "cell_type": "code",
   "execution_count": 5,
   "metadata": {},
   "outputs": [],
   "source": [
    "statsfile_path = \"../PCa_ukb_step2_BT_PCa.regenie\""
   ]
  },
  {
   "cell_type": "code",
   "execution_count": 18,
   "metadata": {},
   "outputs": [
    {
     "name": "stdout",
     "output_type": "stream",
     "text": [
      "  OpenMP version (_OPENMP)       201107\n",
      "  omp_get_num_procs()            16\n",
      "  R_DATATABLE_NUM_PROCS_PERCENT  unset (default 50)\n",
      "  R_DATATABLE_NUM_THREADS        unset\n",
      "  R_DATATABLE_THROTTLE           unset (default 1024)\n",
      "  omp_get_thread_limit()         2147483647\n",
      "  omp_get_max_threads()          16\n",
      "  OMP_THREAD_LIMIT               unset\n",
      "  OMP_NUM_THREADS                unset\n",
      "  RestoreAfterFork               true\n",
      "  data.table is using 8 threads with throttle==1024. See ?setDTthreads.\n",
      "Input contains no \\n. Taking this to be a filename to open\n"
     ]
    },
    {
     "name": "stderr",
     "output_type": "stream",
     "text": [
      "Warning message in fread(file = statsfile_path, sep = \" \", verbose = TRUE):\n",
      "“Previous fread() session was not cleaned up properly. Cleaned up ok at the beginning of this fread() call.”\n"
     ]
    },
    {
     "name": "stdout",
     "output_type": "stream",
     "text": [
      "[01] Check arguments\n",
      "  Using 8 threads (omp_get_max_threads()=16, nth=8)\n",
      "  NAstrings = [<<NA>>]\n",
      "  None of the NAstrings look like numbers.\n",
      "  show progress = 0\n",
      "  0/1 column will be read as integer\n",
      "[02] Opening the file\n",
      "  Opening file ../PCa_ukb_step2_BT_PCa.regenie\n",
      "  File opened, size = 5.231GB (5616971085 bytes).\n",
      "  Memory mapped ok\n",
      "[03] Detect and skip BOM\n",
      "[04] Arrange mmap to be \\0 terminated\n",
      "  \\n has been found in the input and different lines can end with different line endings (e.g. mixed \\n and \\r\\n in one file). This is common and ideal.\n",
      "[05] Skipping initial rows if needed\n",
      "  Positioned on line 1 starting: <<CHROM GENPOS ID ALLELE0 ALLELE>>\n",
      "[06] Detect separator, quoting rule, and ncolumns\n",
      "  Using supplied sep ' '\n",
      "  sep=' '  with 100 lines of 13 fields using quote rule 0\n",
      "  Detected 13 columns on line 1. This line is either column names or first data row. Line starts as: <<CHROM GENPOS ID ALLELE0 ALLELE>>\n",
      "  Quote rule picked = 0\n",
      "  fill=false and the most number of columns found is 13\n",
      "[07] Detect column types, good nrow estimate and whether first row is column names\n",
      "  Number of sampling jump points = 100 because (5616971084 bytes from row 1 to eof) / (2 * 9145 jump0size) == 307106\n",
      "  Type codes (jump 000)    : 55CCC775C7777  Quote rule 0\n",
      "  A line with too-few fields (12/13) was found on line 83 of sample jump 78. Most likely this jump landed awkwardly so type bumps here will be skipped.\n",
      "  Type codes (jump 100)    : 55CCC775C7777  Quote rule 0\n",
      "  'header' determined to be true due to column 1 containing a string on row 1 and a lower type (int32) in the rest of the 10029 sample rows\n",
      "  =====\n",
      "  Sampled 10029 rows (handled \\n inside quoted fields) at 101 jump points\n",
      "  Bytes from first data row on line 2 to the end of last row: 5616971012\n",
      "  Line length: mean=95.59 sd=3.75 min=83 max=151\n",
      "  Estimated number of rows: 5616971012 / 95.59 = 58761326\n",
      "  Initial alloc = 64637458 rows (58761326 + 9%) using bytes/max(mean-2*sd,min) clamped between [1.1*estn, 2.0*estn]\n",
      "  =====\n",
      "[08] Assign column names\n",
      "[09] Apply user overrides on column types\n",
      "  After 0 type and 0 drop user overrides : 55CCC775C7777\n",
      "[10] Allocate memory for the datatable\n",
      "  Allocating 13 column slots (13 - 0 dropped) with 64637458 rows\n",
      "[11] Read the data\n",
      "  jumps=[0..5360), chunk_size=1047942, total_size=5616971012\n",
      "  Restarting team from jump 0. nSwept==0 quoteRule==1\n",
      "  jumps=[0..5360), chunk_size=1047942, total_size=5616971012\n",
      "  Restarting team from jump 0. nSwept==0 quoteRule==2\n",
      "  jumps=[0..5360), chunk_size=1047942, total_size=5616971012\n",
      "  Restarting team from jump 0. nSwept==0 quoteRule==3\n",
      "  jumps=[0..5360), chunk_size=1047942, total_size=5616971012\n",
      "Read 7413 rows x 13 columns from 5.231GB (5616971085 bytes) file in 00:00.730 wall clock time\n",
      "[12] Finalizing the datatable\n",
      "  Type counts:\n",
      "         3 : int32     '5'\n",
      "         6 : float64   '7'\n",
      "         4 : string    'C'\n"
     ]
    },
    {
     "ename": "ERROR",
     "evalue": "Error in fread(file = statsfile_path, sep = \" \", verbose = TRUE): R character strings are limited to 2^31-1 bytes\n",
     "output_type": "error",
     "traceback": [
      "Error in fread(file = statsfile_path, sep = \" \", verbose = TRUE): R character strings are limited to 2^31-1 bytes\nTraceback:\n",
      "1. fread(file = statsfile_path, sep = \" \", verbose = TRUE)"
     ]
    }
   ],
   "source": [
    "gwas_raw <- fread(file=statsfile_path,sep=\" \")\n",
    "names(gwas_raw)[names(gwas_raw) == \"CHROM\"] <- \"CHR\"\n",
    "names(gwas_raw)[names(gwas_raw) == \"GENPOS\"] <- \"BP\""
   ]
  },
  {
   "cell_type": "code",
   "execution_count": 12,
   "metadata": {},
   "outputs": [
    {
     "ename": "ERROR",
     "evalue": "Error in eval(expr, envir, enclos): object 'gwas_raw' not found\n",
     "output_type": "error",
     "traceback": [
      "Error in eval(expr, envir, enclos): object 'gwas_raw' not found\nTraceback:\n"
     ]
    }
   ],
   "source": [
    "gwas_data <- gwas_raw"
   ]
  },
  {
   "cell_type": "code",
   "execution_count": null,
   "metadata": {},
   "outputs": [],
   "source": [
    "don <- gwas_data %>% \n",
    "  \n",
    "  # Compute chromosome size\n",
    "  group_by(CHR) %>% \n",
    "  summarise(chr_len=max(BP)) %>% \n",
    "  \n",
    "  # Calculate cumulative position of each chromosome\n",
    "  mutate(tot=cumsum(as.numeric(chr_len))-chr_len) %>%\n",
    "  select(-chr_len) %>%\n",
    "  \n",
    "  # Add this info to the initial dataset\n",
    "  left_join(gwas_data, ., by=c(\"CHR\"=\"CHR\")) %>%\n",
    "  \n",
    "  # Add a cumulative position of each SNP\n",
    "  arrange(CHR, BP) %>%\n",
    "  mutate(BPcum=BP+tot)\n",
    "\n",
    "axisdf <- don %>% group_by(CHR) %>% summarize(center=( max(BPcum) + min(BPcum) ) / 2 )\n",
    "\n",
    "spectrum <- spectrum_generator(\n",
    "    count = 22,\n",
    "    coverage = 5/6,\n",
    "    offset = -0.25,\n",
    "    reverse = TRUE\n",
    ")\n",
    "\n",
    "manplot <- ggplot(don, aes(x=BPcum, y=LOG10P)) +\n",
    "    \n",
    "    # Show all points\n",
    "    geom_point( aes(color=as.factor(CHR)), alpha=1, size=0.2) +\n",
    "    scale_color_manual(values = spectrum) +\n",
    "    \n",
    "    # custom X axis:\n",
    "    scale_x_continuous( label = axisdf$CHR, breaks=axisdf$center ) +\n",
    "    scale_y_continuous(expand = c(0, 0) ) +\n",
    "\n",
    "    # Custom theme:\n",
    "    theme_bw() +\n",
    "    theme(\n",
    "        legend.position = \"none\",\n",
    "        panel.border = element_blank(),\n",
    "        panel.grid.major.x = element_blank(),\n",
    "        panel.grid.minor.x = element_blank()\n",
    "    )"
   ]
  },
  {
   "cell_type": "code",
   "execution_count": null,
   "metadata": {},
   "outputs": [],
   "source": [
    "ggsave('../PD_manplot.png', plot=manplot, width=24, height=8, units='cm', dpi=600)"
   ]
  },
  {
   "cell_type": "code",
   "execution_count": null,
   "metadata": {},
   "outputs": [],
   "source": []
  }
 ],
 "metadata": {
  "kernelspec": {
   "display_name": "R",
   "language": "R",
   "name": "ir"
  },
  "language_info": {
   "codemirror_mode": "r",
   "file_extension": ".r",
   "mimetype": "text/x-r-source",
   "name": "R",
   "pygments_lexer": "r",
   "version": "4.0.0"
  }
 },
 "nbformat": 4,
 "nbformat_minor": 4
}
