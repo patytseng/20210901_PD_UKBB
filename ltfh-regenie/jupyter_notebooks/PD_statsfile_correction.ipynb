{
 "cells": [
  {
   "cell_type": "code",
   "execution_count": 1,
   "metadata": {},
   "outputs": [],
   "source": [
    "library(data.table)\n",
    "source('/gpfs/home/ptseng/LTFH/transformed_ltfh_effectsizes.R')"
   ]
  },
  {
   "cell_type": "code",
   "execution_count": 2,
   "metadata": {},
   "outputs": [],
   "source": [
    "data = fread('../PD_ukb_step2_BT_ltfh.regenie', sep=' ')"
   ]
  },
  {
   "cell_type": "code",
   "execution_count": 3,
   "metadata": {},
   "outputs": [
    {
     "data": {
      "text/html": [
       "<table class=\"dataframe\">\n",
       "<caption>A data.table: 6 × 13</caption>\n",
       "<thead>\n",
       "\t<tr><th scope=col>CHROM</th><th scope=col>GENPOS</th><th scope=col>ID</th><th scope=col>ALLELE0</th><th scope=col>ALLELE1</th><th scope=col>A1FREQ</th><th scope=col>INFO</th><th scope=col>N</th><th scope=col>TEST</th><th scope=col>BETA</th><th scope=col>SE</th><th scope=col>CHISQ</th><th scope=col>LOG10P</th></tr>\n",
       "\t<tr><th scope=col>&lt;int&gt;</th><th scope=col>&lt;int&gt;</th><th scope=col>&lt;chr&gt;</th><th scope=col>&lt;chr&gt;</th><th scope=col>&lt;chr&gt;</th><th scope=col>&lt;dbl&gt;</th><th scope=col>&lt;dbl&gt;</th><th scope=col>&lt;int&gt;</th><th scope=col>&lt;chr&gt;</th><th scope=col>&lt;dbl&gt;</th><th scope=col>&lt;dbl&gt;</th><th scope=col>&lt;dbl&gt;</th><th scope=col>&lt;dbl&gt;</th></tr>\n",
       "</thead>\n",
       "<tbody>\n",
       "\t<tr><td>1</td><td>10177</td><td>rs367896724                     </td><td>A                     </td><td>AC</td><td>0.398746000</td><td>0.466462</td><td>418678</td><td>ADD</td><td>-0.000446616</td><td>0.000367074</td><td>1.480340</td><td>0.650292</td></tr>\n",
       "\t<tr><td>1</td><td>10235</td><td>rs540431307                     </td><td>T                     </td><td>TA</td><td>0.000349555</td><td>0.197795</td><td>418678</td><td>ADD</td><td> 0.007422560</td><td>0.014755700</td><td>0.253039</td><td>0.211165</td></tr>\n",
       "\t<tr><td>1</td><td>10352</td><td>rs201106462                     </td><td>T                     </td><td>TA</td><td>0.393030000</td><td>0.444533</td><td>418678</td><td>ADD</td><td>-0.000237900</td><td>0.000378069</td><td>0.395956</td><td>0.276392</td></tr>\n",
       "\t<tr><td>1</td><td>10511</td><td>rs534229142                     </td><td>G                     </td><td>A </td><td>0.001266400</td><td>0.440420</td><td>418678</td><td>ADD</td><td>-0.007116820</td><td>0.005213410</td><td>1.863500</td><td>0.763912</td></tr>\n",
       "\t<tr><td>1</td><td>10539</td><td>rs537182016                     </td><td>C                     </td><td>A </td><td>0.000508716</td><td>0.190350</td><td>418678</td><td>ADD</td><td> 0.007349460</td><td>0.012500900</td><td>0.345642</td><td>0.254464</td></tr>\n",
       "\t<tr><td>1</td><td>10616</td><td>1:10616_CCGCCGTTGCAAAGGCGCGCCG_C</td><td>CCGCCGTTGCAAAGGCGCGCCG</td><td>C </td><td>0.994178000</td><td>0.459210</td><td>418678</td><td>ADD</td><td> 0.002801070</td><td>0.002385390</td><td>1.378890</td><td>0.619265</td></tr>\n",
       "</tbody>\n",
       "</table>\n"
      ],
      "text/latex": [
       "A data.table: 6 × 13\n",
       "\\begin{tabular}{lllllllllllll}\n",
       " CHROM & GENPOS & ID & ALLELE0 & ALLELE1 & A1FREQ & INFO & N & TEST & BETA & SE & CHISQ & LOG10P\\\\\n",
       " <int> & <int> & <chr> & <chr> & <chr> & <dbl> & <dbl> & <int> & <chr> & <dbl> & <dbl> & <dbl> & <dbl>\\\\\n",
       "\\hline\n",
       "\t 1 & 10177 & rs367896724                      & A                      & AC & 0.398746000 & 0.466462 & 418678 & ADD & -0.000446616 & 0.000367074 & 1.480340 & 0.650292\\\\\n",
       "\t 1 & 10235 & rs540431307                      & T                      & TA & 0.000349555 & 0.197795 & 418678 & ADD &  0.007422560 & 0.014755700 & 0.253039 & 0.211165\\\\\n",
       "\t 1 & 10352 & rs201106462                      & T                      & TA & 0.393030000 & 0.444533 & 418678 & ADD & -0.000237900 & 0.000378069 & 0.395956 & 0.276392\\\\\n",
       "\t 1 & 10511 & rs534229142                      & G                      & A  & 0.001266400 & 0.440420 & 418678 & ADD & -0.007116820 & 0.005213410 & 1.863500 & 0.763912\\\\\n",
       "\t 1 & 10539 & rs537182016                      & C                      & A  & 0.000508716 & 0.190350 & 418678 & ADD &  0.007349460 & 0.012500900 & 0.345642 & 0.254464\\\\\n",
       "\t 1 & 10616 & 1:10616\\_CCGCCGTTGCAAAGGCGCGCCG\\_C & CCGCCGTTGCAAAGGCGCGCCG & C  & 0.994178000 & 0.459210 & 418678 & ADD &  0.002801070 & 0.002385390 & 1.378890 & 0.619265\\\\\n",
       "\\end{tabular}\n"
      ],
      "text/markdown": [
       "\n",
       "A data.table: 6 × 13\n",
       "\n",
       "| CHROM &lt;int&gt; | GENPOS &lt;int&gt; | ID &lt;chr&gt; | ALLELE0 &lt;chr&gt; | ALLELE1 &lt;chr&gt; | A1FREQ &lt;dbl&gt; | INFO &lt;dbl&gt; | N &lt;int&gt; | TEST &lt;chr&gt; | BETA &lt;dbl&gt; | SE &lt;dbl&gt; | CHISQ &lt;dbl&gt; | LOG10P &lt;dbl&gt; |\n",
       "|---|---|---|---|---|---|---|---|---|---|---|---|---|\n",
       "| 1 | 10177 | rs367896724                      | A                      | AC | 0.398746000 | 0.466462 | 418678 | ADD | -0.000446616 | 0.000367074 | 1.480340 | 0.650292 |\n",
       "| 1 | 10235 | rs540431307                      | T                      | TA | 0.000349555 | 0.197795 | 418678 | ADD |  0.007422560 | 0.014755700 | 0.253039 | 0.211165 |\n",
       "| 1 | 10352 | rs201106462                      | T                      | TA | 0.393030000 | 0.444533 | 418678 | ADD | -0.000237900 | 0.000378069 | 0.395956 | 0.276392 |\n",
       "| 1 | 10511 | rs534229142                      | G                      | A  | 0.001266400 | 0.440420 | 418678 | ADD | -0.007116820 | 0.005213410 | 1.863500 | 0.763912 |\n",
       "| 1 | 10539 | rs537182016                      | C                      | A  | 0.000508716 | 0.190350 | 418678 | ADD |  0.007349460 | 0.012500900 | 0.345642 | 0.254464 |\n",
       "| 1 | 10616 | 1:10616_CCGCCGTTGCAAAGGCGCGCCG_C | CCGCCGTTGCAAAGGCGCGCCG | C  | 0.994178000 | 0.459210 | 418678 | ADD |  0.002801070 | 0.002385390 | 1.378890 | 0.619265 |\n",
       "\n"
      ],
      "text/plain": [
       "  CHROM GENPOS ID                               ALLELE0                ALLELE1\n",
       "1 1     10177  rs367896724                      A                      AC     \n",
       "2 1     10235  rs540431307                      T                      TA     \n",
       "3 1     10352  rs201106462                      T                      TA     \n",
       "4 1     10511  rs534229142                      G                      A      \n",
       "5 1     10539  rs537182016                      C                      A      \n",
       "6 1     10616  1:10616_CCGCCGTTGCAAAGGCGCGCCG_C CCGCCGTTGCAAAGGCGCGCCG C      \n",
       "  A1FREQ      INFO     N      TEST BETA         SE          CHISQ    LOG10P  \n",
       "1 0.398746000 0.466462 418678 ADD  -0.000446616 0.000367074 1.480340 0.650292\n",
       "2 0.000349555 0.197795 418678 ADD   0.007422560 0.014755700 0.253039 0.211165\n",
       "3 0.393030000 0.444533 418678 ADD  -0.000237900 0.000378069 0.395956 0.276392\n",
       "4 0.001266400 0.440420 418678 ADD  -0.007116820 0.005213410 1.863500 0.763912\n",
       "5 0.000508716 0.190350 418678 ADD   0.007349460 0.012500900 0.345642 0.254464\n",
       "6 0.994178000 0.459210 418678 ADD   0.002801070 0.002385390 1.378890 0.619265"
      ]
     },
     "metadata": {},
     "output_type": "display_data"
    }
   ],
   "source": [
    "head(data)"
   ]
  },
  {
   "cell_type": "code",
   "execution_count": 4,
   "metadata": {},
   "outputs": [],
   "source": [
    "data$BETA = transformed_effectsizes(data$BETA,data$SE,0.5,419488,0.00451352265716731,data$A1FREQ)"
   ]
  },
  {
   "cell_type": "code",
   "execution_count": 5,
   "metadata": {},
   "outputs": [],
   "source": [
    "data$P <- pnorm(\n",
    "    abs(data$BETA/data$SE),\n",
    "    mean = 0,\n",
    "    sd = 1, \n",
    "    lower.tail = FALSE\n",
    ")\n",
    "data$LOG10P <- -log10(data$P)"
   ]
  },
  {
   "cell_type": "code",
   "execution_count": 6,
   "metadata": {},
   "outputs": [
    {
     "data": {
      "text/html": [
       "<table class=\"dataframe\">\n",
       "<caption>A data.table: 6 × 14</caption>\n",
       "<thead>\n",
       "\t<tr><th scope=col>CHROM</th><th scope=col>GENPOS</th><th scope=col>ID</th><th scope=col>ALLELE0</th><th scope=col>ALLELE1</th><th scope=col>A1FREQ</th><th scope=col>INFO</th><th scope=col>N</th><th scope=col>TEST</th><th scope=col>BETA</th><th scope=col>SE</th><th scope=col>CHISQ</th><th scope=col>LOG10P</th><th scope=col>P</th></tr>\n",
       "\t<tr><th scope=col>&lt;int&gt;</th><th scope=col>&lt;int&gt;</th><th scope=col>&lt;chr&gt;</th><th scope=col>&lt;chr&gt;</th><th scope=col>&lt;chr&gt;</th><th scope=col>&lt;dbl&gt;</th><th scope=col>&lt;dbl&gt;</th><th scope=col>&lt;int&gt;</th><th scope=col>&lt;chr&gt;</th><th scope=col>&lt;dbl&gt;</th><th scope=col>&lt;dbl&gt;</th><th scope=col>&lt;dbl&gt;</th><th scope=col>&lt;dbl&gt;</th><th scope=col>&lt;dbl&gt;</th></tr>\n",
       "</thead>\n",
       "<tbody>\n",
       "\t<tr><td>1</td><td>10177</td><td>rs367896724                     </td><td>A                     </td><td>AC</td><td>0.398746000</td><td>0.466462</td><td>418678</td><td>ADD</td><td>-0.0002571694</td><td>0.000367074</td><td>1.480340</td><td>0.6165821</td><td>0.2417786</td></tr>\n",
       "\t<tr><td>1</td><td>10235</td><td>rs540431307                     </td><td>T                     </td><td>TA</td><td>0.000349555</td><td>0.197795</td><td>418678</td><td>ADD</td><td> 0.0027850166</td><td>0.014755700</td><td>0.253039</td><td>0.3714603</td><td>0.4251476</td></tr>\n",
       "\t<tr><td>1</td><td>10352</td><td>rs201106462                     </td><td>T                     </td><td>TA</td><td>0.393030000</td><td>0.444533</td><td>418678</td><td>ADD</td><td>-0.0001333345</td><td>0.000378069</td><td>0.395956</td><td>0.4410911</td><td>0.3621670</td></tr>\n",
       "\t<tr><td>1</td><td>10511</td><td>rs534229142                     </td><td>G                     </td><td>A </td><td>0.001266400</td><td>0.440420</td><td>418678</td><td>ADD</td><td>-0.0039725516</td><td>0.005213410</td><td>1.863500</td><td>0.6516293</td><td>0.2230338</td></tr>\n",
       "\t<tr><td>1</td><td>10539</td><td>rs537182016                     </td><td>C                     </td><td>A </td><td>0.000508716</td><td>0.190350</td><td>418678</td><td>ADD</td><td> 0.0026983773</td><td>0.012500900</td><td>0.345642</td><td>0.3824225</td><td>0.4145505</td></tr>\n",
       "\t<tr><td>1</td><td>10616</td><td>1:10616_CCGCCGTTGCAAAGGCGCGCCG_C</td><td>CCGCCGTTGCAAAGGCGCGCCG</td><td>C </td><td>0.994178000</td><td>0.459210</td><td>418678</td><td>ADD</td><td> 0.0015973943</td><td>0.002385390</td><td>1.378890</td><td>0.5993963</td><td>0.2515381</td></tr>\n",
       "</tbody>\n",
       "</table>\n"
      ],
      "text/latex": [
       "A data.table: 6 × 14\n",
       "\\begin{tabular}{llllllllllllll}\n",
       " CHROM & GENPOS & ID & ALLELE0 & ALLELE1 & A1FREQ & INFO & N & TEST & BETA & SE & CHISQ & LOG10P & P\\\\\n",
       " <int> & <int> & <chr> & <chr> & <chr> & <dbl> & <dbl> & <int> & <chr> & <dbl> & <dbl> & <dbl> & <dbl> & <dbl>\\\\\n",
       "\\hline\n",
       "\t 1 & 10177 & rs367896724                      & A                      & AC & 0.398746000 & 0.466462 & 418678 & ADD & -0.0002571694 & 0.000367074 & 1.480340 & 0.6165821 & 0.2417786\\\\\n",
       "\t 1 & 10235 & rs540431307                      & T                      & TA & 0.000349555 & 0.197795 & 418678 & ADD &  0.0027850166 & 0.014755700 & 0.253039 & 0.3714603 & 0.4251476\\\\\n",
       "\t 1 & 10352 & rs201106462                      & T                      & TA & 0.393030000 & 0.444533 & 418678 & ADD & -0.0001333345 & 0.000378069 & 0.395956 & 0.4410911 & 0.3621670\\\\\n",
       "\t 1 & 10511 & rs534229142                      & G                      & A  & 0.001266400 & 0.440420 & 418678 & ADD & -0.0039725516 & 0.005213410 & 1.863500 & 0.6516293 & 0.2230338\\\\\n",
       "\t 1 & 10539 & rs537182016                      & C                      & A  & 0.000508716 & 0.190350 & 418678 & ADD &  0.0026983773 & 0.012500900 & 0.345642 & 0.3824225 & 0.4145505\\\\\n",
       "\t 1 & 10616 & 1:10616\\_CCGCCGTTGCAAAGGCGCGCCG\\_C & CCGCCGTTGCAAAGGCGCGCCG & C  & 0.994178000 & 0.459210 & 418678 & ADD &  0.0015973943 & 0.002385390 & 1.378890 & 0.5993963 & 0.2515381\\\\\n",
       "\\end{tabular}\n"
      ],
      "text/markdown": [
       "\n",
       "A data.table: 6 × 14\n",
       "\n",
       "| CHROM &lt;int&gt; | GENPOS &lt;int&gt; | ID &lt;chr&gt; | ALLELE0 &lt;chr&gt; | ALLELE1 &lt;chr&gt; | A1FREQ &lt;dbl&gt; | INFO &lt;dbl&gt; | N &lt;int&gt; | TEST &lt;chr&gt; | BETA &lt;dbl&gt; | SE &lt;dbl&gt; | CHISQ &lt;dbl&gt; | LOG10P &lt;dbl&gt; | P &lt;dbl&gt; |\n",
       "|---|---|---|---|---|---|---|---|---|---|---|---|---|---|\n",
       "| 1 | 10177 | rs367896724                      | A                      | AC | 0.398746000 | 0.466462 | 418678 | ADD | -0.0002571694 | 0.000367074 | 1.480340 | 0.6165821 | 0.2417786 |\n",
       "| 1 | 10235 | rs540431307                      | T                      | TA | 0.000349555 | 0.197795 | 418678 | ADD |  0.0027850166 | 0.014755700 | 0.253039 | 0.3714603 | 0.4251476 |\n",
       "| 1 | 10352 | rs201106462                      | T                      | TA | 0.393030000 | 0.444533 | 418678 | ADD | -0.0001333345 | 0.000378069 | 0.395956 | 0.4410911 | 0.3621670 |\n",
       "| 1 | 10511 | rs534229142                      | G                      | A  | 0.001266400 | 0.440420 | 418678 | ADD | -0.0039725516 | 0.005213410 | 1.863500 | 0.6516293 | 0.2230338 |\n",
       "| 1 | 10539 | rs537182016                      | C                      | A  | 0.000508716 | 0.190350 | 418678 | ADD |  0.0026983773 | 0.012500900 | 0.345642 | 0.3824225 | 0.4145505 |\n",
       "| 1 | 10616 | 1:10616_CCGCCGTTGCAAAGGCGCGCCG_C | CCGCCGTTGCAAAGGCGCGCCG | C  | 0.994178000 | 0.459210 | 418678 | ADD |  0.0015973943 | 0.002385390 | 1.378890 | 0.5993963 | 0.2515381 |\n",
       "\n"
      ],
      "text/plain": [
       "  CHROM GENPOS ID                               ALLELE0                ALLELE1\n",
       "1 1     10177  rs367896724                      A                      AC     \n",
       "2 1     10235  rs540431307                      T                      TA     \n",
       "3 1     10352  rs201106462                      T                      TA     \n",
       "4 1     10511  rs534229142                      G                      A      \n",
       "5 1     10539  rs537182016                      C                      A      \n",
       "6 1     10616  1:10616_CCGCCGTTGCAAAGGCGCGCCG_C CCGCCGTTGCAAAGGCGCGCCG C      \n",
       "  A1FREQ      INFO     N      TEST BETA          SE          CHISQ    LOG10P   \n",
       "1 0.398746000 0.466462 418678 ADD  -0.0002571694 0.000367074 1.480340 0.6165821\n",
       "2 0.000349555 0.197795 418678 ADD   0.0027850166 0.014755700 0.253039 0.3714603\n",
       "3 0.393030000 0.444533 418678 ADD  -0.0001333345 0.000378069 0.395956 0.4410911\n",
       "4 0.001266400 0.440420 418678 ADD  -0.0039725516 0.005213410 1.863500 0.6516293\n",
       "5 0.000508716 0.190350 418678 ADD   0.0026983773 0.012500900 0.345642 0.3824225\n",
       "6 0.994178000 0.459210 418678 ADD   0.0015973943 0.002385390 1.378890 0.5993963\n",
       "  P        \n",
       "1 0.2417786\n",
       "2 0.4251476\n",
       "3 0.3621670\n",
       "4 0.2230338\n",
       "5 0.4145505\n",
       "6 0.2515381"
      ]
     },
     "metadata": {},
     "output_type": "display_data"
    }
   ],
   "source": [
    "head(data)"
   ]
  },
  {
   "cell_type": "code",
   "execution_count": 7,
   "metadata": {},
   "outputs": [],
   "source": [
    "fwrite(data,'../PD_ukb_step2_BT_ltfh.regenie.corrected',sep=' ')"
   ]
  },
  {
   "cell_type": "code",
   "execution_count": null,
   "metadata": {},
   "outputs": [],
   "source": []
  }
 ],
 "metadata": {
  "kernelspec": {
   "display_name": "R",
   "language": "R",
   "name": "ir"
  },
  "language_info": {
   "codemirror_mode": "r",
   "file_extension": ".r",
   "mimetype": "text/x-r-source",
   "name": "R",
   "pygments_lexer": "r",
   "version": "4.0.0"
  }
 },
 "nbformat": 4,
 "nbformat_minor": 4
}
