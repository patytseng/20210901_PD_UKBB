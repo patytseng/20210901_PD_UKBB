{
 "cells": [
  {
   "cell_type": "code",
   "execution_count": 1,
   "metadata": {},
   "outputs": [
    {
     "name": "stderr",
     "output_type": "stream",
     "text": [
      "Loading required package: bigstatsr\n",
      "\n",
      "── \u001b[1mAttaching packages\u001b[22m ─────────────────────────────────────── tidyverse 1.3.1 ──\n",
      "\n",
      "\u001b[32m✔\u001b[39m \u001b[34mggplot2\u001b[39m 3.3.5     \u001b[32m✔\u001b[39m \u001b[34mpurrr  \u001b[39m 0.3.4\n",
      "\u001b[32m✔\u001b[39m \u001b[34mtibble \u001b[39m 3.1.6     \u001b[32m✔\u001b[39m \u001b[34mdplyr  \u001b[39m 1.0.7\n",
      "\u001b[32m✔\u001b[39m \u001b[34mtidyr  \u001b[39m 1.1.4     \u001b[32m✔\u001b[39m \u001b[34mstringr\u001b[39m 1.4.0\n",
      "\u001b[32m✔\u001b[39m \u001b[34mreadr  \u001b[39m 2.1.1     \u001b[32m✔\u001b[39m \u001b[34mforcats\u001b[39m 0.5.1\n",
      "\n",
      "── \u001b[1mConflicts\u001b[22m ────────────────────────────────────────── tidyverse_conflicts() ──\n",
      "\u001b[31m✖\u001b[39m \u001b[34mdplyr\u001b[39m::\u001b[32mfilter()\u001b[39m masks \u001b[34mstats\u001b[39m::filter()\n",
      "\u001b[31m✖\u001b[39m \u001b[34mdplyr\u001b[39m::\u001b[32mlag()\u001b[39m    masks \u001b[34mstats\u001b[39m::lag()\n",
      "\n",
      "\n",
      "Attaching package: ‘data.table’\n",
      "\n",
      "\n",
      "The following objects are masked from ‘package:dplyr’:\n",
      "\n",
      "    between, first, last\n",
      "\n",
      "\n",
      "The following object is masked from ‘package:purrr’:\n",
      "\n",
      "    transpose\n",
      "\n",
      "\n"
     ]
    },
    {
     "name": "stdout",
     "output_type": "stream",
     "text": [
      "\n",
      "Loading bigSNP objects...\n",
      "Currently working on chromosome 1\n",
      "Currently working on chromosome 2\n",
      "Currently working on chromosome 3\n",
      "Currently working on chromosome 4\n",
      "Currently working on chromosome 5\n",
      "Currently working on chromosome 6\n",
      "Currently working on chromosome 7\n",
      "Currently working on chromosome 8\n",
      "Currently working on chromosome 9\n",
      "Currently working on chromosome 10\n",
      "Currently working on chromosome 11\n",
      "Currently working on chromosome 12\n",
      "Currently working on chromosome 13\n",
      "Currently working on chromosome 14\n",
      "Currently working on chromosome 15\n",
      "Currently working on chromosome 16\n",
      "Currently working on chromosome 17\n",
      "Currently working on chromosome 18\n",
      "Currently working on chromosome 19\n",
      "Currently working on chromosome 20\n",
      "Currently working on chromosome 21\n",
      "Currently working on chromosome 22\n",
      "DONE\n",
      "\n",
      "Loading summary statistics...\n",
      "DONE\n",
      "\n",
      "Matching summary statistics with map data..."
     ]
    },
    {
     "name": "stderr",
     "output_type": "stream",
     "text": [
      "1,014,228 variants to be matched.\n",
      "\n",
      "146,667 ambiguous SNPs have been removed.\n",
      "\n",
      "Some duplicates were removed.\n",
      "\n",
      "867,179 variants have been matched; 0 were flipped and 0 were reversed.\n",
      "\n"
     ]
    },
    {
     "name": "stdout",
     "output_type": "stream",
     "text": [
      "\n",
      "DONE\n"
     ]
    }
   ],
   "source": [
    "# Load packages bigsnpr and bigstatsr\n",
    "library(bigsnpr)\n",
    "library(tidyverse)\n",
    "library(data.table)\n",
    "\n",
    "# Load bigSNP objects in R session\n",
    "cat('\\nLoading bigSNP objects...')\n",
    "for (chr in 1:22) {\n",
    "    cat(paste('\\nCurrently working on chromosome',chr))\n",
    "    obj.bigSNP <- snp_attach(paste0(\"/mnt/stsi/stsi1/ptseng/UKBB_Resources/ldpred2/chr\",chr,\"/temp.rds\"))\n",
    "    #str(obj.bigSNP, max.level = 2, strict.width = \"cut\")\n",
    "  \n",
    "    if (chr == 1) {\n",
    "        G   <- c(obj.bigSNP$genotypes)\n",
    "        map <- obj.bigSNP$map\n",
    "    } else {\n",
    "        G   <- append(G,obj.bigSNP$genotypes)\n",
    "        map <- bind_rows(map,obj.bigSNP$map)\n",
    "    }\n",
    "}\n",
    "\n",
    "# Fixing column values\n",
    "map$chromosome <- as.integer(map$chromosome)\n",
    "map$physical.pos <- as.integer(map$physical.pos)\n",
    "\n",
    "cat('\\nDONE\\n')\n",
    "\n",
    "# Get aliases for useful slots\n",
    "CHR <- map$chromosome\n",
    "ind.N <- nrow(G[[1]])\n",
    "NCORES <- nb_cores()\n",
    "\n",
    "# Set individuals\n",
    "ind.val <- sample(ind.N, ind.N*4/5)\n",
    "ind.test <- setdiff(ind.N, ind.val)\n",
    "\n",
    "# Read external summary statistics\n",
    "cat('\\nLoading summary statistics...')\n",
    "sumstats <- bigreadr::fread2(\"../PD_ukb_step2_BT_ltfh.regenie.corrected.reduced\")\n",
    "cat('\\nDONE\\n')\n",
    "# Matching Sumstats with Map\n",
    "cat('\\nMatching summary statistics with map data...')\n",
    "sumstats <- sumstats[,c('CHROM', 'GENPOS', 'ALLELE0', 'ALLELE1', 'A1FREQ', 'BETA', 'SE')]\n",
    "names(sumstats) <- c(\"chr\", \"pos\", \"a0\", \"a1\", \"a1_freq\", \"beta\", \"beta_se\")\n",
    "sumstats['n_eff'] <- 419488\n",
    "\n",
    "map <- map[,c('chromosome','physical.pos','allele1','allele2')]\n",
    "names(map) <- c(\"chr\", \"pos\", \"a0\", \"a1\")\n",
    "\n",
    "info_snp <- snp_match(sumstats, map)\n",
    "info_snp <- tidyr::drop_na(tibble::as_tibble(info_snp))\n",
    "cat('\\nDONE\\n')\n",
    "\n",
    "# Set Temporary File\n",
    "tmp <- tempfile(tmpdir = \"tmp-data\")"
   ]
  },
  {
   "cell_type": "code",
   "execution_count": 2,
   "metadata": {},
   "outputs": [],
   "source": [
    "sumstats <- info_snp"
   ]
  },
  {
   "cell_type": "code",
   "execution_count": 3,
   "metadata": {},
   "outputs": [
    {
     "data": {
      "text/html": [
       "<table class=\"dataframe\">\n",
       "<caption>A tibble: 6 × 10</caption>\n",
       "<thead>\n",
       "\t<tr><th scope=col>chr</th><th scope=col>pos</th><th scope=col>a0</th><th scope=col>a1</th><th scope=col>a1_freq</th><th scope=col>beta</th><th scope=col>beta_se</th><th scope=col>n_eff</th><th scope=col>_NUM_ID_.ss</th><th scope=col>_NUM_ID_</th></tr>\n",
       "\t<tr><th scope=col>&lt;int&gt;</th><th scope=col>&lt;int&gt;</th><th scope=col>&lt;chr&gt;</th><th scope=col>&lt;chr&gt;</th><th scope=col>&lt;dbl&gt;</th><th scope=col>&lt;dbl&gt;</th><th scope=col>&lt;dbl&gt;</th><th scope=col>&lt;dbl&gt;</th><th scope=col>&lt;int&gt;</th><th scope=col>&lt;int&gt;</th></tr>\n",
       "</thead>\n",
       "<tbody>\n",
       "\t<tr><td>1</td><td> 79807</td><td>G    </td><td>A</td><td>0.000051235</td><td> 0.055852397</td><td>0.02057280</td><td>419488</td><td>1</td><td>1</td></tr>\n",
       "\t<tr><td>1</td><td>129672</td><td>A    </td><td>G</td><td>0.000118492</td><td> 0.040025593</td><td>0.01477910</td><td>419488</td><td>2</td><td>2</td></tr>\n",
       "\t<tr><td>1</td><td>601158</td><td>GAGTA</td><td>G</td><td>0.000854688</td><td> 0.013466354</td><td>0.00462319</td><td>419488</td><td>3</td><td>3</td></tr>\n",
       "\t<tr><td>1</td><td>720026</td><td>C    </td><td>T</td><td>0.000020316</td><td> 0.058603689</td><td>0.02729160</td><td>419488</td><td>4</td><td>4</td></tr>\n",
       "\t<tr><td>1</td><td>720663</td><td>T    </td><td>C</td><td>0.000357367</td><td> 0.019138239</td><td>0.00895003</td><td>419488</td><td>5</td><td>5</td></tr>\n",
       "\t<tr><td>1</td><td>742594</td><td>C    </td><td>T</td><td>0.001727370</td><td>-0.006687322</td><td>0.00368591</td><td>419488</td><td>6</td><td>6</td></tr>\n",
       "</tbody>\n",
       "</table>\n"
      ],
      "text/latex": [
       "A tibble: 6 × 10\n",
       "\\begin{tabular}{llllllllll}\n",
       " chr & pos & a0 & a1 & a1\\_freq & beta & beta\\_se & n\\_eff & \\_NUM\\_ID\\_.ss & \\_NUM\\_ID\\_\\\\\n",
       " <int> & <int> & <chr> & <chr> & <dbl> & <dbl> & <dbl> & <dbl> & <int> & <int>\\\\\n",
       "\\hline\n",
       "\t 1 &  79807 & G     & A & 0.000051235 &  0.055852397 & 0.02057280 & 419488 & 1 & 1\\\\\n",
       "\t 1 & 129672 & A     & G & 0.000118492 &  0.040025593 & 0.01477910 & 419488 & 2 & 2\\\\\n",
       "\t 1 & 601158 & GAGTA & G & 0.000854688 &  0.013466354 & 0.00462319 & 419488 & 3 & 3\\\\\n",
       "\t 1 & 720026 & C     & T & 0.000020316 &  0.058603689 & 0.02729160 & 419488 & 4 & 4\\\\\n",
       "\t 1 & 720663 & T     & C & 0.000357367 &  0.019138239 & 0.00895003 & 419488 & 5 & 5\\\\\n",
       "\t 1 & 742594 & C     & T & 0.001727370 & -0.006687322 & 0.00368591 & 419488 & 6 & 6\\\\\n",
       "\\end{tabular}\n"
      ],
      "text/markdown": [
       "\n",
       "A tibble: 6 × 10\n",
       "\n",
       "| chr &lt;int&gt; | pos &lt;int&gt; | a0 &lt;chr&gt; | a1 &lt;chr&gt; | a1_freq &lt;dbl&gt; | beta &lt;dbl&gt; | beta_se &lt;dbl&gt; | n_eff &lt;dbl&gt; | _NUM_ID_.ss &lt;int&gt; | _NUM_ID_ &lt;int&gt; |\n",
       "|---|---|---|---|---|---|---|---|---|---|\n",
       "| 1 |  79807 | G     | A | 0.000051235 |  0.055852397 | 0.02057280 | 419488 | 1 | 1 |\n",
       "| 1 | 129672 | A     | G | 0.000118492 |  0.040025593 | 0.01477910 | 419488 | 2 | 2 |\n",
       "| 1 | 601158 | GAGTA | G | 0.000854688 |  0.013466354 | 0.00462319 | 419488 | 3 | 3 |\n",
       "| 1 | 720026 | C     | T | 0.000020316 |  0.058603689 | 0.02729160 | 419488 | 4 | 4 |\n",
       "| 1 | 720663 | T     | C | 0.000357367 |  0.019138239 | 0.00895003 | 419488 | 5 | 5 |\n",
       "| 1 | 742594 | C     | T | 0.001727370 | -0.006687322 | 0.00368591 | 419488 | 6 | 6 |\n",
       "\n"
      ],
      "text/plain": [
       "  chr pos    a0    a1 a1_freq     beta         beta_se    n_eff  _NUM_ID_.ss\n",
       "1 1    79807 G     A  0.000051235  0.055852397 0.02057280 419488 1          \n",
       "2 1   129672 A     G  0.000118492  0.040025593 0.01477910 419488 2          \n",
       "3 1   601158 GAGTA G  0.000854688  0.013466354 0.00462319 419488 3          \n",
       "4 1   720026 C     T  0.000020316  0.058603689 0.02729160 419488 4          \n",
       "5 1   720663 T     C  0.000357367  0.019138239 0.00895003 419488 5          \n",
       "6 1   742594 C     T  0.001727370 -0.006687322 0.00368591 419488 6          \n",
       "  _NUM_ID_\n",
       "1 1       \n",
       "2 2       \n",
       "3 3       \n",
       "4 4       \n",
       "5 5       \n",
       "6 6       "
      ]
     },
     "metadata": {},
     "output_type": "display_data"
    }
   ],
   "source": [
    "head(sumstats) "
   ]
  },
  {
   "cell_type": "code",
   "execution_count": 4,
   "metadata": {},
   "outputs": [
    {
     "name": "stdout",
     "output_type": "stream",
     "text": [
      "\n",
      "Loading correlation info...\n",
      "readRDS for chromosome 1\n",
      "readRDS for chromosome 2\n",
      "readRDS for chromosome 3\n",
      "readRDS for chromosome 4\n",
      "readRDS for chromosome 5\n",
      "readRDS for chromosome 6\n",
      "readRDS for chromosome 7\n",
      "readRDS for chromosome 8\n",
      "readRDS for chromosome 9\n",
      "readRDS for chromosome 10\n",
      "readRDS for chromosome 11\n",
      "readRDS for chromosome 12\n",
      "readRDS for chromosome 13\n",
      "readRDS for chromosome 14\n",
      "readRDS for chromosome 15\n",
      "readRDS for chromosome 16\n",
      "readRDS for chromosome 17\n",
      "readRDS for chromosome 18\n",
      "readRDS for chromosome 19\n",
      "readRDS for chromosome 20\n",
      "readRDS for chromosome 21\n",
      "readRDS for chromosome 22\n",
      "DONE\n"
     ]
    }
   ],
   "source": [
    "# Load Correlation Info from File\n",
    "cat('\\nLoading correlation info...')\n",
    "for (chr in 1:22) {\n",
    "\n",
    "  # print(chr)\n",
    "\n",
    "  ## indices in 'df_beta'\n",
    "  ind.chr1 <- which(sumstats$chr == chr)\n",
    "  ## indices in 'map_ldref'\n",
    "  ind.chr2 <- sumstats$`_NUM_ID_`[ind.chr1]\n",
    "  ## indices in 'corr_chr'\n",
    "  ind.chr3 <- match(ind.chr2, which(map$chr == chr))\n",
    "    \n",
    "  cat(paste('\\nreadRDS for chromosome',chr))\n",
    "  corr0 <- readRDS(paste0(\"/mnt/stsi/stsi1/ptseng/UKBB_Resources/ldpred2/corr/chr\", chr, \".rds\"))[ind.chr3, ind.chr3]\n",
    "\n",
    "  if (chr == 1) {\n",
    "    df_beta <- sumstats[ind.chr1, c(\"beta\", \"beta_se\", \"n_eff\", \"_NUM_ID_\")]\n",
    "    ld <- Matrix::colSums(corr0^2)\n",
    "    corr <- as_SFBM(corr0, tmp)\n",
    "  } else {\n",
    "    df_beta <- rbind(df_beta, sumstats[ind.chr1, c(\"beta\", \"beta_se\", \"n_eff\", \"_NUM_ID_\")])\n",
    "    ld <- c(ld, Matrix::colSums(corr0^2))\n",
    "    corr$add_columns(corr0, nrow(corr))\n",
    "  }\n",
    "}\n",
    "cat('\\nDONE\\n')"
   ]
  },
  {
   "cell_type": "code",
   "execution_count": 6,
   "metadata": {},
   "outputs": [
    {
     "ename": "ERROR",
     "evalue": "Error in if (max(abs(pred - pred0)) < 1e-06) break: missing value where TRUE/FALSE needed\n",
     "output_type": "error",
     "traceback": [
      "Error in if (max(abs(pred - pred0)) < 1e-06) break: missing value where TRUE/FALSE needed\nTraceback:\n",
      "1. with(df_beta, snp_ldsc(ld, length(ld), chi2 = (beta/beta_se)^2, \n .     sample_size = n_eff, blocks = NULL))",
      "2. with.default(df_beta, snp_ldsc(ld, length(ld), chi2 = (beta/beta_se)^2, \n .     sample_size = n_eff, blocks = NULL))",
      "3. eval(substitute(expr), data, enclos = parent.frame())",
      "4. eval(substitute(expr), data, enclos = parent.frame())",
      "5. snp_ldsc(ld, length(ld), chi2 = (beta/beta_se)^2, sample_size = n_eff, \n .     blocks = NULL)"
     ]
    }
   ],
   "source": [
    "(ldsc <- with(df_beta, snp_ldsc(ld, length(ld), chi2 = (beta / beta_se)^2,\n",
    "                                  sample_size = n_eff, blocks = NULL)))\n",
    "h2_est <- ldsc[[\"h2\"]]"
   ]
  },
  {
   "cell_type": "code",
   "execution_count": null,
   "metadata": {},
   "outputs": [],
   "source": [
    "# ldpred2 auto\n",
    "multi_auto <- snp_ldpred2_auto(corr, df_beta, h2_init = h2_est,\n",
    "                               vec_p_init = seq_log(1e-4, 0.9, 30),\n",
    "                               ncores = NCORES)\n",
    "beta_auto <- sapply(multi_auto, function(auto) auto$beta_est)"
   ]
  },
  {
   "cell_type": "code",
   "execution_count": null,
   "metadata": {},
   "outputs": [],
   "source": [
    "library(data.table)"
   ]
  },
  {
   "cell_type": "code",
   "execution_count": null,
   "metadata": {},
   "outputs": [],
   "source": [
    "fwrite(beta_auto,'ldpred2_output',sep=' ',row.names=FALSE)"
   ]
  },
  {
   "cell_type": "code",
   "execution_count": null,
   "metadata": {},
   "outputs": [],
   "source": [
    "fwrite(df_beta,'ldpred2_statsfile',sep=' ',row.names=FALSE)"
   ]
  },
  {
   "cell_type": "code",
   "execution_count": null,
   "metadata": {},
   "outputs": [],
   "source": []
  }
 ],
 "metadata": {
  "kernelspec": {
   "display_name": "R",
   "language": "R",
   "name": "ir"
  },
  "language_info": {
   "codemirror_mode": "r",
   "file_extension": ".r",
   "mimetype": "text/x-r-source",
   "name": "R",
   "pygments_lexer": "r",
   "version": "4.0.0"
  }
 },
 "nbformat": 4,
 "nbformat_minor": 4
}
