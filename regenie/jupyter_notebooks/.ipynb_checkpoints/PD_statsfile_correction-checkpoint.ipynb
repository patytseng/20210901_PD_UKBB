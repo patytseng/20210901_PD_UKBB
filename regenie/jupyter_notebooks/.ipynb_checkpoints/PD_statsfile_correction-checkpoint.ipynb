{
 "cells": [
  {
   "cell_type": "code",
   "execution_count": 1,
   "metadata": {},
   "outputs": [],
   "source": [
    "library(data.table)\n",
    "source('/gpfs/home/ptseng/LTFH/transformed_ltfh_effectsizes.R')"
   ]
  },
  {
   "cell_type": "code",
   "execution_count": 2,
   "metadata": {},
   "outputs": [],
   "source": [
    "data = fread('../PD_ukb_step2_BT_ltfh.regenie', sep=' ')"
   ]
  },
  {
   "cell_type": "code",
   "execution_count": 3,
   "metadata": {},
   "outputs": [
    {
     "data": {
      "text/html": [
       "<table class=\"dataframe\">\n",
       "<caption>A data.table: 6 × 13</caption>\n",
       "<thead>\n",
       "\t<tr><th scope=col>CHROM</th><th scope=col>GENPOS</th><th scope=col>ID</th><th scope=col>ALLELE0</th><th scope=col>ALLELE1</th><th scope=col>A1FREQ</th><th scope=col>INFO</th><th scope=col>N</th><th scope=col>TEST</th><th scope=col>BETA</th><th scope=col>SE</th><th scope=col>CHISQ</th><th scope=col>LOG10P</th></tr>\n",
       "\t<tr><th scope=col>&lt;int&gt;</th><th scope=col>&lt;int&gt;</th><th scope=col>&lt;chr&gt;</th><th scope=col>&lt;chr&gt;</th><th scope=col>&lt;chr&gt;</th><th scope=col>&lt;dbl&gt;</th><th scope=col>&lt;dbl&gt;</th><th scope=col>&lt;int&gt;</th><th scope=col>&lt;chr&gt;</th><th scope=col>&lt;dbl&gt;</th><th scope=col>&lt;dbl&gt;</th><th scope=col>&lt;dbl&gt;</th><th scope=col>&lt;dbl&gt;</th></tr>\n",
       "</thead>\n",
       "<tbody>\n",
       "\t<tr><td>1</td><td>10177</td><td>rs367896724                     </td><td>A                     </td><td>AC</td><td>0.39875000</td><td>0.466184</td><td>458979</td><td>ADD</td><td>-0.000468465</td><td>0.000700843</td><td>0.446799</td><td>0.2976910</td></tr>\n",
       "\t<tr><td>1</td><td>10235</td><td>rs540431307                     </td><td>T                     </td><td>TA</td><td>0.00034584</td><td>0.196078</td><td>458979</td><td>ADD</td><td> 0.004726530</td><td>0.028443600</td><td>0.027613</td><td>0.0614694</td></tr>\n",
       "\t<tr><td>1</td><td>10352</td><td>rs201106462                     </td><td>T                     </td><td>TA</td><td>0.39308100</td><td>0.444503</td><td>458979</td><td>ADD</td><td>-0.000822349</td><td>0.000721424</td><td>1.299360</td><td>0.5946030</td></tr>\n",
       "\t<tr><td>1</td><td>10511</td><td>rs534229142                     </td><td>G                     </td><td>A </td><td>0.00127080</td><td>0.441378</td><td>458979</td><td>ADD</td><td>-0.010238000</td><td>0.009922930</td><td>1.064500</td><td>0.5197200</td></tr>\n",
       "\t<tr><td>1</td><td>10539</td><td>rs537182016                     </td><td>C                     </td><td>A </td><td>0.00050045</td><td>0.183974</td><td>458979</td><td>ADD</td><td> 0.008885810</td><td>0.024470300</td><td>0.131860</td><td>0.1447770</td></tr>\n",
       "\t<tr><td>1</td><td>10616</td><td>1:10616_CCGCCGTTGCAAAGGCGCGCCG_C</td><td>CCGCCGTTGCAAAGGCGCGCCG</td><td>C </td><td>0.99418300</td><td>0.458582</td><td>458979</td><td>ADD</td><td> 0.005828020</td><td>0.004557730</td><td>1.635100</td><td>0.6968060</td></tr>\n",
       "</tbody>\n",
       "</table>\n"
      ],
      "text/latex": [
       "A data.table: 6 × 13\n",
       "\\begin{tabular}{lllllllllllll}\n",
       " CHROM & GENPOS & ID & ALLELE0 & ALLELE1 & A1FREQ & INFO & N & TEST & BETA & SE & CHISQ & LOG10P\\\\\n",
       " <int> & <int> & <chr> & <chr> & <chr> & <dbl> & <dbl> & <int> & <chr> & <dbl> & <dbl> & <dbl> & <dbl>\\\\\n",
       "\\hline\n",
       "\t 1 & 10177 & rs367896724                      & A                      & AC & 0.39875000 & 0.466184 & 458979 & ADD & -0.000468465 & 0.000700843 & 0.446799 & 0.2976910\\\\\n",
       "\t 1 & 10235 & rs540431307                      & T                      & TA & 0.00034584 & 0.196078 & 458979 & ADD &  0.004726530 & 0.028443600 & 0.027613 & 0.0614694\\\\\n",
       "\t 1 & 10352 & rs201106462                      & T                      & TA & 0.39308100 & 0.444503 & 458979 & ADD & -0.000822349 & 0.000721424 & 1.299360 & 0.5946030\\\\\n",
       "\t 1 & 10511 & rs534229142                      & G                      & A  & 0.00127080 & 0.441378 & 458979 & ADD & -0.010238000 & 0.009922930 & 1.064500 & 0.5197200\\\\\n",
       "\t 1 & 10539 & rs537182016                      & C                      & A  & 0.00050045 & 0.183974 & 458979 & ADD &  0.008885810 & 0.024470300 & 0.131860 & 0.1447770\\\\\n",
       "\t 1 & 10616 & 1:10616\\_CCGCCGTTGCAAAGGCGCGCCG\\_C & CCGCCGTTGCAAAGGCGCGCCG & C  & 0.99418300 & 0.458582 & 458979 & ADD &  0.005828020 & 0.004557730 & 1.635100 & 0.6968060\\\\\n",
       "\\end{tabular}\n"
      ],
      "text/markdown": [
       "\n",
       "A data.table: 6 × 13\n",
       "\n",
       "| CHROM &lt;int&gt; | GENPOS &lt;int&gt; | ID &lt;chr&gt; | ALLELE0 &lt;chr&gt; | ALLELE1 &lt;chr&gt; | A1FREQ &lt;dbl&gt; | INFO &lt;dbl&gt; | N &lt;int&gt; | TEST &lt;chr&gt; | BETA &lt;dbl&gt; | SE &lt;dbl&gt; | CHISQ &lt;dbl&gt; | LOG10P &lt;dbl&gt; |\n",
       "|---|---|---|---|---|---|---|---|---|---|---|---|---|\n",
       "| 1 | 10177 | rs367896724                      | A                      | AC | 0.39875000 | 0.466184 | 458979 | ADD | -0.000468465 | 0.000700843 | 0.446799 | 0.2976910 |\n",
       "| 1 | 10235 | rs540431307                      | T                      | TA | 0.00034584 | 0.196078 | 458979 | ADD |  0.004726530 | 0.028443600 | 0.027613 | 0.0614694 |\n",
       "| 1 | 10352 | rs201106462                      | T                      | TA | 0.39308100 | 0.444503 | 458979 | ADD | -0.000822349 | 0.000721424 | 1.299360 | 0.5946030 |\n",
       "| 1 | 10511 | rs534229142                      | G                      | A  | 0.00127080 | 0.441378 | 458979 | ADD | -0.010238000 | 0.009922930 | 1.064500 | 0.5197200 |\n",
       "| 1 | 10539 | rs537182016                      | C                      | A  | 0.00050045 | 0.183974 | 458979 | ADD |  0.008885810 | 0.024470300 | 0.131860 | 0.1447770 |\n",
       "| 1 | 10616 | 1:10616_CCGCCGTTGCAAAGGCGCGCCG_C | CCGCCGTTGCAAAGGCGCGCCG | C  | 0.99418300 | 0.458582 | 458979 | ADD |  0.005828020 | 0.004557730 | 1.635100 | 0.6968060 |\n",
       "\n"
      ],
      "text/plain": [
       "  CHROM GENPOS ID                               ALLELE0                ALLELE1\n",
       "1 1     10177  rs367896724                      A                      AC     \n",
       "2 1     10235  rs540431307                      T                      TA     \n",
       "3 1     10352  rs201106462                      T                      TA     \n",
       "4 1     10511  rs534229142                      G                      A      \n",
       "5 1     10539  rs537182016                      C                      A      \n",
       "6 1     10616  1:10616_CCGCCGTTGCAAAGGCGCGCCG_C CCGCCGTTGCAAAGGCGCGCCG C      \n",
       "  A1FREQ     INFO     N      TEST BETA         SE          CHISQ    LOG10P   \n",
       "1 0.39875000 0.466184 458979 ADD  -0.000468465 0.000700843 0.446799 0.2976910\n",
       "2 0.00034584 0.196078 458979 ADD   0.004726530 0.028443600 0.027613 0.0614694\n",
       "3 0.39308100 0.444503 458979 ADD  -0.000822349 0.000721424 1.299360 0.5946030\n",
       "4 0.00127080 0.441378 458979 ADD  -0.010238000 0.009922930 1.064500 0.5197200\n",
       "5 0.00050045 0.183974 458979 ADD   0.008885810 0.024470300 0.131860 0.1447770\n",
       "6 0.99418300 0.458582 458979 ADD   0.005828020 0.004557730 1.635100 0.6968060"
      ]
     },
     "metadata": {},
     "output_type": "display_data"
    }
   ],
   "source": [
    "head(data)"
   ]
  },
  {
   "cell_type": "code",
   "execution_count": 4,
   "metadata": {},
   "outputs": [],
   "source": [
    "data$BETA = transformed_effectsizes(data$BETA,data$SE,1,458979,0.00451352265716731,data$A1FREQ)"
   ]
  },
  {
   "cell_type": "code",
   "execution_count": 5,
   "metadata": {},
   "outputs": [],
   "source": [
    "fwrite(data,'../PD_ukb_step2_BT_ltfh.regenie.corrected',sep=' ')"
   ]
  }
 ],
 "metadata": {
  "kernelspec": {
   "display_name": "R",
   "language": "R",
   "name": "ir"
  },
  "language_info": {
   "codemirror_mode": "r",
   "file_extension": ".r",
   "mimetype": "text/x-r-source",
   "name": "R",
   "pygments_lexer": "r",
   "version": "4.0.0"
  }
 },
 "nbformat": 4,
 "nbformat_minor": 4
}
