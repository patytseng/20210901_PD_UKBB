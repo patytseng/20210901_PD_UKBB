{
 "cells": [
  {
   "cell_type": "code",
   "execution_count": 1,
   "metadata": {
    "tags": []
   },
   "outputs": [],
   "source": [
    "library(tidyverse)\n",
    "library(stringr)\n",
    "library(ggplot2)\n",
    "library(data.table)"
   ]
  },
  {
   "cell_type": "code",
   "execution_count": null,
   "metadata": {
    "tags": []
   },
   "outputs": [],
   "source": [
    "spectrum_generator <- function(count=100,coverage=2/3,offset=0,reverse=FALSE) {\n",
    "    tau = 2*pi\n",
    "    color = vector('list',3)\n",
    "    coverage = ((-1)^reverse)*coverage\n",
    "    offset = ((-1)^reverse)*offset\n",
    "    for (iter in 1:3) {\n",
    "        values = c()\n",
    "        theta = (offset + iter - 1) * tau/3\n",
    "        for (x in seq(0,tau*coverage,tau*coverage/(count-1))[1:count]) {\n",
    "            values = c(values, cos(x + theta)/2 + 0.5)\n",
    "        }\n",
    "        color[[iter]] = values\n",
    "    }\n",
    "    return(rgb(color[[1]],color[[2]],color[[3]]))\n",
    "}"
   ]
  },
  {
   "cell_type": "code",
   "execution_count": null,
   "metadata": {},
   "outputs": [],
   "source": [
    "statsfile_path = \"../PD_ukb_step2_BT_ltfh.regenie\""
   ]
  },
  {
   "cell_type": "code",
   "execution_count": null,
   "metadata": {},
   "outputs": [],
   "source": [
    "gwas_raw <- fread(statsfile_path, sep=\" \")\n",
    "names(gwas_raw)[names(gwas_raw) == \"CHROM\"] <- \"CHR\"\n",
    "names(gwas_raw)[names(gwas_raw) == \"GENPOS\"] <- \"BP\""
   ]
  },
  {
   "cell_type": "code",
   "execution_count": null,
   "metadata": {},
   "outputs": [],
   "source": [
    "gwas_data <- gwas_raw"
   ]
  },
  {
   "cell_type": "code",
   "execution_count": null,
   "metadata": {},
   "outputs": [],
   "source": [
    "don <- gwas_data %>% \n",
    "  \n",
    "  # Compute chromosome size\n",
    "  group_by(CHR) %>% \n",
    "  summarise(chr_len=max(BP)) %>% \n",
    "  \n",
    "  # Calculate cumulative position of each chromosome\n",
    "  mutate(tot=cumsum(as.numeric(chr_len))-chr_len) %>%\n",
    "  select(-chr_len) %>%\n",
    "  \n",
    "  # Add this info to the initial dataset\n",
    "  left_join(gwas_data, ., by=c(\"CHR\"=\"CHR\")) %>%\n",
    "  \n",
    "  # Add a cumulative position of each SNP\n",
    "  arrange(CHR, BP) %>%\n",
    "  mutate(BPcum=BP+tot)\n",
    "\n",
    "axisdf <- don %>% group_by(CHR) %>% summarize(center=( max(BPcum) + min(BPcum) ) / 2 )\n",
    "\n",
    "spectrum <- spectrum_generator(\n",
    "    count = 22,\n",
    "    coverage = 5/6,\n",
    "    offset = -0.25,\n",
    "    reverse = TRUE\n",
    ")\n",
    "\n",
    "manplot <- ggplot(don, aes(x=BPcum, y=LOG10P)) +\n",
    "    \n",
    "    # Show all points\n",
    "    geom_point( aes(color=as.factor(CHR)), alpha=1, size=0.2) +\n",
    "    scale_color_manual(values = spectrum) +\n",
    "    \n",
    "    # custom X axis:\n",
    "    scale_x_continuous( label = axisdf$CHR, breaks=axisdf$center ) +\n",
    "    scale_y_continuous(expand = c(0, 0) ) +\n",
    "\n",
    "    # Custom theme:\n",
    "    theme_bw() +\n",
    "    theme(\n",
    "        legend.position = \"none\",\n",
    "        panel.border = element_blank(),\n",
    "        panel.grid.major.x = element_blank(),\n",
    "        panel.grid.minor.x = element_blank()\n",
    "    )"
   ]
  },
  {
   "cell_type": "code",
   "execution_count": null,
   "metadata": {},
   "outputs": [],
   "source": [
    "ggsave('../PD_manplot.png', plot=manplot, width=24, height=8, units='cm', dpi=600)"
   ]
  },
  {
   "cell_type": "code",
   "execution_count": null,
   "metadata": {},
   "outputs": [],
   "source": []
  }
 ],
 "metadata": {
  "kernelspec": {
   "display_name": "R",
   "language": "R",
   "name": "ir"
  },
  "language_info": {
   "codemirror_mode": "r",
   "file_extension": ".r",
   "mimetype": "text/x-r-source",
   "name": "R",
   "pygments_lexer": "r",
   "version": "4.0.0"
  }
 },
 "nbformat": 4,
 "nbformat_minor": 4
}
