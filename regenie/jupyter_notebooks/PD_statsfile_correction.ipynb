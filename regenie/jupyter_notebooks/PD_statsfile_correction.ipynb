{
 "cells": [
  {
   "cell_type": "code",
   "execution_count": 1,
   "metadata": {},
   "outputs": [],
   "source": [
    "library(data.table)\n",
    "source('/gpfs/home/ptseng/LTFH/transformed_ltfh_effectsizes.R')"
   ]
  },
  {
   "cell_type": "code",
   "execution_count": 2,
   "metadata": {},
   "outputs": [],
   "source": [
    "data = fread('../PD_ukb_step2_BT_ltfh.regenie', sep=' ')"
   ]
  },
  {
   "cell_type": "code",
   "execution_count": 3,
   "metadata": {},
   "outputs": [
    {
     "data": {
      "text/html": [
       "<table class=\"dataframe\">\n",
       "<caption>A data.table: 6 × 13</caption>\n",
       "<thead>\n",
       "\t<tr><th scope=col>CHROM</th><th scope=col>GENPOS</th><th scope=col>ID</th><th scope=col>ALLELE0</th><th scope=col>ALLELE1</th><th scope=col>A1FREQ</th><th scope=col>INFO</th><th scope=col>N</th><th scope=col>TEST</th><th scope=col>BETA</th><th scope=col>SE</th><th scope=col>CHISQ</th><th scope=col>LOG10P</th></tr>\n",
       "\t<tr><th scope=col>&lt;int&gt;</th><th scope=col>&lt;int&gt;</th><th scope=col>&lt;chr&gt;</th><th scope=col>&lt;chr&gt;</th><th scope=col>&lt;chr&gt;</th><th scope=col>&lt;dbl&gt;</th><th scope=col>&lt;dbl&gt;</th><th scope=col>&lt;int&gt;</th><th scope=col>&lt;chr&gt;</th><th scope=col>&lt;dbl&gt;</th><th scope=col>&lt;dbl&gt;</th><th scope=col>&lt;dbl&gt;</th><th scope=col>&lt;dbl&gt;</th></tr>\n",
       "</thead>\n",
       "<tbody>\n",
       "\t<tr><td>1</td><td>10177</td><td>rs367896724                     </td><td>A                     </td><td>AC</td><td>0.398785000</td><td>0.466075</td><td>422751</td><td>ADD</td><td>-0.000667639</td><td>0.000749703</td><td>0.7930580</td><td>0.4280850</td></tr>\n",
       "\t<tr><td>1</td><td>10235</td><td>rs540431307                     </td><td>T                     </td><td>TA</td><td>0.000346962</td><td>0.198116</td><td>422751</td><td>ADD</td><td> 0.006174050</td><td>0.030218800</td><td>0.0417433</td><td>0.0766991</td></tr>\n",
       "\t<tr><td>1</td><td>10352</td><td>rs201106462                     </td><td>T                     </td><td>TA</td><td>0.393009000</td><td>0.444227</td><td>422751</td><td>ADD</td><td>-0.000796837</td><td>0.000772289</td><td>1.0645800</td><td>0.5197450</td></tr>\n",
       "\t<tr><td>1</td><td>10511</td><td>rs534229142                     </td><td>G                     </td><td>A </td><td>0.001263550</td><td>0.437284</td><td>422751</td><td>ADD</td><td>-0.009062310</td><td>0.010696400</td><td>0.7178000</td><td>0.4013560</td></tr>\n",
       "\t<tr><td>1</td><td>10539</td><td>rs537182016                     </td><td>C                     </td><td>A </td><td>0.000503458</td><td>0.186152</td><td>422751</td><td>ADD</td><td> 0.007350750</td><td>0.025946700</td><td>0.0802599</td><td>0.1096090</td></tr>\n",
       "\t<tr><td>1</td><td>10616</td><td>1:10616_CCGCCGTTGCAAAGGCGCGCCG_C</td><td>CCGCCGTTGCAAAGGCGCGCCG</td><td>C </td><td>0.994189000</td><td>0.458764</td><td>422751</td><td>ADD</td><td> 0.006144610</td><td>0.004877890</td><td>1.5868100</td><td>0.6823920</td></tr>\n",
       "</tbody>\n",
       "</table>\n"
      ],
      "text/latex": [
       "A data.table: 6 × 13\n",
       "\\begin{tabular}{lllllllllllll}\n",
       " CHROM & GENPOS & ID & ALLELE0 & ALLELE1 & A1FREQ & INFO & N & TEST & BETA & SE & CHISQ & LOG10P\\\\\n",
       " <int> & <int> & <chr> & <chr> & <chr> & <dbl> & <dbl> & <int> & <chr> & <dbl> & <dbl> & <dbl> & <dbl>\\\\\n",
       "\\hline\n",
       "\t 1 & 10177 & rs367896724                      & A                      & AC & 0.398785000 & 0.466075 & 422751 & ADD & -0.000667639 & 0.000749703 & 0.7930580 & 0.4280850\\\\\n",
       "\t 1 & 10235 & rs540431307                      & T                      & TA & 0.000346962 & 0.198116 & 422751 & ADD &  0.006174050 & 0.030218800 & 0.0417433 & 0.0766991\\\\\n",
       "\t 1 & 10352 & rs201106462                      & T                      & TA & 0.393009000 & 0.444227 & 422751 & ADD & -0.000796837 & 0.000772289 & 1.0645800 & 0.5197450\\\\\n",
       "\t 1 & 10511 & rs534229142                      & G                      & A  & 0.001263550 & 0.437284 & 422751 & ADD & -0.009062310 & 0.010696400 & 0.7178000 & 0.4013560\\\\\n",
       "\t 1 & 10539 & rs537182016                      & C                      & A  & 0.000503458 & 0.186152 & 422751 & ADD &  0.007350750 & 0.025946700 & 0.0802599 & 0.1096090\\\\\n",
       "\t 1 & 10616 & 1:10616\\_CCGCCGTTGCAAAGGCGCGCCG\\_C & CCGCCGTTGCAAAGGCGCGCCG & C  & 0.994189000 & 0.458764 & 422751 & ADD &  0.006144610 & 0.004877890 & 1.5868100 & 0.6823920\\\\\n",
       "\\end{tabular}\n"
      ],
      "text/markdown": [
       "\n",
       "A data.table: 6 × 13\n",
       "\n",
       "| CHROM &lt;int&gt; | GENPOS &lt;int&gt; | ID &lt;chr&gt; | ALLELE0 &lt;chr&gt; | ALLELE1 &lt;chr&gt; | A1FREQ &lt;dbl&gt; | INFO &lt;dbl&gt; | N &lt;int&gt; | TEST &lt;chr&gt; | BETA &lt;dbl&gt; | SE &lt;dbl&gt; | CHISQ &lt;dbl&gt; | LOG10P &lt;dbl&gt; |\n",
       "|---|---|---|---|---|---|---|---|---|---|---|---|---|\n",
       "| 1 | 10177 | rs367896724                      | A                      | AC | 0.398785000 | 0.466075 | 422751 | ADD | -0.000667639 | 0.000749703 | 0.7930580 | 0.4280850 |\n",
       "| 1 | 10235 | rs540431307                      | T                      | TA | 0.000346962 | 0.198116 | 422751 | ADD |  0.006174050 | 0.030218800 | 0.0417433 | 0.0766991 |\n",
       "| 1 | 10352 | rs201106462                      | T                      | TA | 0.393009000 | 0.444227 | 422751 | ADD | -0.000796837 | 0.000772289 | 1.0645800 | 0.5197450 |\n",
       "| 1 | 10511 | rs534229142                      | G                      | A  | 0.001263550 | 0.437284 | 422751 | ADD | -0.009062310 | 0.010696400 | 0.7178000 | 0.4013560 |\n",
       "| 1 | 10539 | rs537182016                      | C                      | A  | 0.000503458 | 0.186152 | 422751 | ADD |  0.007350750 | 0.025946700 | 0.0802599 | 0.1096090 |\n",
       "| 1 | 10616 | 1:10616_CCGCCGTTGCAAAGGCGCGCCG_C | CCGCCGTTGCAAAGGCGCGCCG | C  | 0.994189000 | 0.458764 | 422751 | ADD |  0.006144610 | 0.004877890 | 1.5868100 | 0.6823920 |\n",
       "\n"
      ],
      "text/plain": [
       "  CHROM GENPOS ID                               ALLELE0                ALLELE1\n",
       "1 1     10177  rs367896724                      A                      AC     \n",
       "2 1     10235  rs540431307                      T                      TA     \n",
       "3 1     10352  rs201106462                      T                      TA     \n",
       "4 1     10511  rs534229142                      G                      A      \n",
       "5 1     10539  rs537182016                      C                      A      \n",
       "6 1     10616  1:10616_CCGCCGTTGCAAAGGCGCGCCG_C CCGCCGTTGCAAAGGCGCGCCG C      \n",
       "  A1FREQ      INFO     N      TEST BETA         SE          CHISQ     LOG10P   \n",
       "1 0.398785000 0.466075 422751 ADD  -0.000667639 0.000749703 0.7930580 0.4280850\n",
       "2 0.000346962 0.198116 422751 ADD   0.006174050 0.030218800 0.0417433 0.0766991\n",
       "3 0.393009000 0.444227 422751 ADD  -0.000796837 0.000772289 1.0645800 0.5197450\n",
       "4 0.001263550 0.437284 422751 ADD  -0.009062310 0.010696400 0.7178000 0.4013560\n",
       "5 0.000503458 0.186152 422751 ADD   0.007350750 0.025946700 0.0802599 0.1096090\n",
       "6 0.994189000 0.458764 422751 ADD   0.006144610 0.004877890 1.5868100 0.6823920"
      ]
     },
     "metadata": {},
     "output_type": "display_data"
    }
   ],
   "source": [
    "head(data)"
   ]
  },
  {
   "cell_type": "code",
   "execution_count": 4,
   "metadata": {},
   "outputs": [],
   "source": [
    "data$BETA = transformed_effectsizes(data$BETA,data$SE,1,458979,0.00451352265716731,data$A1FREQ)"
   ]
  },
  {
   "cell_type": "code",
   "execution_count": 5,
   "metadata": {},
   "outputs": [],
   "source": [
    "fwrite(data,'../PD_ukb_step2_BT_ltfh.regenie.corrected',sep=' ')"
   ]
  }
 ],
 "metadata": {
  "kernelspec": {
   "display_name": "R",
   "language": "R",
   "name": "ir"
  },
  "language_info": {
   "codemirror_mode": "r",
   "file_extension": ".r",
   "mimetype": "text/x-r-source",
   "name": "R",
   "pygments_lexer": "r",
   "version": "4.0.0"
  }
 },
 "nbformat": 4,
 "nbformat_minor": 4
}
