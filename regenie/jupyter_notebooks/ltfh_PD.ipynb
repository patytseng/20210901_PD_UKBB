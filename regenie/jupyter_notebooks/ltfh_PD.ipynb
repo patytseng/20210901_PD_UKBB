{
 "cells": [
  {
   "cell_type": "code",
   "execution_count": 1,
   "metadata": {},
   "outputs": [],
   "source": [
    "library(data.table)\n",
    "library(ggplot2)"
   ]
  },
  {
   "cell_type": "code",
   "execution_count": 2,
   "metadata": {},
   "outputs": [],
   "source": [
    "source('/gpfs/home/ptseng/LTFH/assign_ltfh.R')"
   ]
  },
  {
   "cell_type": "code",
   "execution_count": 3,
   "metadata": {},
   "outputs": [],
   "source": [
    "raw_out_path <- '/gpfs/home/ptseng/Torkamani_Projects/20210901_PD_UKBB/regenie/regenie_input/PD_pheno_raw.txt'"
   ]
  },
  {
   "cell_type": "code",
   "execution_count": 4,
   "metadata": {},
   "outputs": [],
   "source": [
    "data <- fread(raw_out_path,sep=' ')"
   ]
  },
  {
   "cell_type": "code",
   "execution_count": 5,
   "metadata": {},
   "outputs": [],
   "source": [
    "subdata <- data.table(data[,'IID'])"
   ]
  },
  {
   "cell_type": "code",
   "execution_count": 6,
   "metadata": {},
   "outputs": [],
   "source": [
    "subdata[,'CHILD_STATUS'] <- as.integer(!is.na(data[,'f.42030.0.0']))"
   ]
  },
  {
   "cell_type": "code",
   "execution_count": 7,
   "metadata": {},
   "outputs": [],
   "source": [
    "iteration_1 <- TRUE\n",
    "PD_catcher <- data.frame(IID=data[,'IID'],PD=FALSE)\n",
    "na_catcher <- data.frame(IID=data[,'IID'],na=TRUE)\n",
    "\n",
    "for (field in c(\n",
    "    \"f.20107.0.0\", \"f.20107.0.1\", \"f.20107.0.2\", \"f.20107.0.3\", \"f.20107.0.4\", \"f.20107.0.5\", \"f.20107.0.6\", \"f.20107.0.7\", \"f.20107.0.8\", \"f.20107.0.9\", \n",
    "    \"f.20107.1.0\", \"f.20107.1.1\", \"f.20107.1.2\", \"f.20107.1.3\", \"f.20107.1.4\", \"f.20107.1.5\", \"f.20107.1.6\", \"f.20107.1.7\", \"f.20107.1.8\", \"f.20107.1.9\", \n",
    "    \"f.20107.2.0\", \"f.20107.2.1\", \"f.20107.2.2\", \"f.20107.2.3\", \"f.20107.2.4\", \"f.20107.2.5\", \"f.20107.2.6\", \"f.20107.2.7\", \"f.20107.2.8\", \"f.20107.2.9\", \n",
    "    \"f.20107.3.0\", \"f.20107.3.1\", \"f.20107.3.2\", \"f.20107.3.3\", \"f.20107.3.4\", \"f.20107.3.5\", \"f.20107.3.6\", \"f.20107.3.7\", \"f.20107.3.8\", \"f.20107.3.9\"\n",
    ")) {\n",
    "    temp <- (data[ , ..field] == 11)\n",
    "    temp[is.na(temp)] <- FALSE\n",
    "    PD_catcher$PD <- PD_catcher$PD | temp\n",
    "    \n",
    "    temp1 <- (data[,..field] < 0)\n",
    "    temp2 <- is.na(data[,..field])\n",
    "    temp1[is.na(temp)] <- FALSE\n",
    "    temp2[is.na(temp)] <- FALSE\n",
    "    temp <- temp1 | temp2\n",
    "    na_catcher$na <- na_catcher$na & temp\n",
    "}\n",
    "\n",
    "na_catcher$na[na_catcher$na==TRUE] <- NA\n",
    "\n",
    "subdata[,'P1_STATUS'] <- as.integer(PD_catcher$PD | na_catcher$na)"
   ]
  },
  {
   "cell_type": "code",
   "execution_count": 8,
   "metadata": {},
   "outputs": [],
   "source": [
    "iteration_1 <- TRUE\n",
    "PD_catcher <- data.frame(IID=data[,'IID'],PD=FALSE)\n",
    "na_catcher <- data.frame(IID=data[,'IID'],na=TRUE)\n",
    "\n",
    "for (field in c(\n",
    "    \"f.20110.0.0\", \"f.20110.0.1\", \"f.20110.0.2\", \"f.20110.0.3\", \"f.20110.0.4\", \"f.20110.0.5\", \"f.20110.0.6\", \"f.20110.0.7\", \"f.20110.0.8\", \"f.20110.0.9\", \"f.20110.0.10\", \n",
    "    \"f.20110.1.0\", \"f.20110.1.1\", \"f.20110.1.2\", \"f.20110.1.3\", \"f.20110.1.4\", \"f.20110.1.5\", \"f.20110.1.6\", \"f.20110.1.7\", \"f.20110.1.8\", \"f.20110.1.9\", \"f.20110.1.10\", \n",
    "    \"f.20110.2.0\", \"f.20110.2.1\", \"f.20110.2.2\", \"f.20110.2.3\", \"f.20110.2.4\", \"f.20110.2.5\", \"f.20110.2.6\", \"f.20110.2.7\", \"f.20110.2.8\", \"f.20110.2.9\", \"f.20110.2.10\", \n",
    "    \"f.20110.3.0\", \"f.20110.3.1\", \"f.20110.3.2\", \"f.20110.3.3\", \"f.20110.3.4\", \"f.20110.3.5\", \"f.20110.3.6\", \"f.20110.3.7\", \"f.20110.3.8\", \"f.20110.3.9\", \"f.20110.3.10\"\n",
    ")) {\n",
    "    temp <- (data[,..field] == 11)\n",
    "    temp[is.na(temp)] <- FALSE\n",
    "    PD_catcher$PD <- PD_catcher$PD | temp\n",
    "    \n",
    "    temp1 <- (data[,..field] < 0)\n",
    "    temp2 <- is.na(data[,..field])\n",
    "    temp1[is.na(temp)] <- FALSE\n",
    "    temp2[is.na(temp)] <- FALSE\n",
    "    temp <- temp1 | temp2\n",
    "    na_catcher$na <- na_catcher$na & temp\n",
    "}\n",
    "\n",
    "na_catcher$na[na_catcher$na==TRUE] <- NA\n",
    "\n",
    "\n",
    "subdata[,'P2_STATUS'] <- as.integer(PD_catcher$PD | na_catcher$na)"
   ]
  },
  {
   "cell_type": "code",
   "execution_count": 9,
   "metadata": {},
   "outputs": [],
   "source": [
    "working_total <- data.frame(IID=data[,'IID'],siblings=NA)\n",
    "\n",
    "for (field in c(\n",
    "    \"f.1873.0.0\", \"f.1873.1.0\", \"f.1873.2.0\", \"f.1873.3.0\", \n",
    "    \"f.1883.0.0\", \"f.1883.1.0\", \"f.1883.2.0\", \"f.1883.3.0\"\n",
    ")) {\n",
    "    temp <- data[,c('IID',..field)]\n",
    "    temp[temp < 0] <- NA\n",
    "    temp <- na.omit(temp)\n",
    "    \n",
    "    ind <- match(temp$IID, working_total$IID)\n",
    "    working_total[ind, 'siblings'] <- temp[,..field]\n",
    "}\n",
    "\n",
    "\n",
    "subdata[,'NUM_SIBS'] <- as.integer(working_total$siblings)"
   ]
  },
  {
   "cell_type": "code",
   "execution_count": 10,
   "metadata": {},
   "outputs": [],
   "source": [
    "iteration_1 <- TRUE\n",
    "PD_catcher <- data.frame(IID=data[,'IID'],PD=FALSE)\n",
    "na_catcher <- data.frame(IID=data[,'IID'],na=TRUE)\n",
    "\n",
    "for (field in c(\n",
    "    \"f.20111.0.0\", \"f.20111.0.1\", \"f.20111.0.2\", \"f.20111.0.3\", \"f.20111.0.4\", \"f.20111.0.5\", \"f.20111.0.6\", \"f.20111.0.7\", \"f.20111.0.8\", \"f.20111.0.9\", \"f.20111.0.10\", \"f.20111.0.11\", \n",
    "    \"f.20111.1.0\", \"f.20111.1.1\", \"f.20111.1.2\", \"f.20111.1.3\", \"f.20111.1.4\", \"f.20111.1.5\", \"f.20111.1.6\", \"f.20111.1.7\", \"f.20111.1.8\", \"f.20111.1.9\", \"f.20111.1.10\", \"f.20111.1.11\", \n",
    "    \"f.20111.2.0\", \"f.20111.2.1\", \"f.20111.2.2\", \"f.20111.2.3\", \"f.20111.2.4\", \"f.20111.2.5\", \"f.20111.2.6\", \"f.20111.2.7\", \"f.20111.2.8\", \"f.20111.2.9\", \"f.20111.2.10\", \"f.20111.2.11\", \n",
    "    \"f.20111.3.0\", \"f.20111.3.1\", \"f.20111.3.2\", \"f.20111.3.3\", \"f.20111.3.4\", \"f.20111.3.5\", \"f.20111.3.6\", \"f.20111.3.7\", \"f.20111.3.8\", \"f.20111.3.9\", \"f.20111.3.10\", \"f.20111.3.11\"\n",
    ")) {\n",
    "    temp <- (data[, ..field] == 11)\n",
    "    temp[is.na(temp)] <- FALSE\n",
    "    PD_catcher$PD <- PD_catcher$PD | temp\n",
    "    \n",
    "    temp1 <- (data[,..field] < 0)\n",
    "    temp2 <- is.na(data[,..field])\n",
    "    temp1[is.na(temp)] <- FALSE\n",
    "    temp2[is.na(temp)] <- FALSE\n",
    "    temp <- temp1 | temp2\n",
    "    na_catcher$na <- na_catcher$na & temp\n",
    "}\n",
    "\n",
    "na_catcher$na[na_catcher$na==TRUE] <- NA\n",
    "\n",
    "\n",
    "subdata[,'SIB_STATUS'] <- as.integer(PD_catcher$PD | na_catcher$na)"
   ]
  },
  {
   "cell_type": "code",
   "execution_count": 11,
   "metadata": {},
   "outputs": [],
   "source": [
    "subdata <- data.frame(subdata)"
   ]
  },
  {
   "cell_type": "code",
   "execution_count": 12,
   "metadata": {},
   "outputs": [],
   "source": [
    "result = create_pheno(\n",
    "    data=subdata,\n",
    "    trait_h2=0.755,\n",
    "    T_val_child=qnorm(mean(subdata[,'CHILD_STATUS'],na.rm=T),lower.tail = FALSE),\n",
    "    T_val_parent=qnorm(mean(c(subdata[,'P1_STATUS'],subdata[,'P2_STATUS']),na.rm=T),lower.tail = FALSE),\n",
    "    relevant_trait_child='CHILD_STATUS',\n",
    "    relevant_trait_dad='P1_STATUS',\n",
    "    relevant_trait_mom='P2_STATUS',\n",
    "    number_siblings_col='NUM_SIBS',\n",
    "    relevant_trait_sib='SIB_STATUS',\n",
    "    maximum_siblings_to_compute=10\n",
    ")"
   ]
  },
  {
   "cell_type": "code",
   "execution_count": 13,
   "metadata": {},
   "outputs": [],
   "source": [
    "result_df <- data.table(result)\n",
    "names(result_df) <- c('IID','ltfh_cc','ltfh_nosib','ltfh')\n",
    "result_df$IID <- as.character(result_df$IID)"
   ]
  },
  {
   "cell_type": "code",
   "execution_count": 14,
   "metadata": {},
   "outputs": [],
   "source": [
    "names(result_df) <- c('pejID','ltfh_cc','ltfh_nosib','ltfh')\n",
    "matching = read.csv('/mnt/stsi/stsi1/ptseng/UKBB_Resources/phenos/matched_torkamani_pejman_ids.txt',sep='\\t')\n",
    "names(matching) <- c('torkID','pejID')"
   ]
  },
  {
   "cell_type": "code",
   "execution_count": 15,
   "metadata": {},
   "outputs": [],
   "source": [
    "output = merge(result_df,matching,by='pejID',all=TRUE)\n",
    "output = output[output$torkID != 'f.eid',c('torkID','torkID','ltfh')]"
   ]
  },
  {
   "cell_type": "code",
   "execution_count": 16,
   "metadata": {},
   "outputs": [],
   "source": [
    "names(output) <- c('FID','IID','ltfh')"
   ]
  },
  {
   "cell_type": "code",
   "execution_count": 17,
   "metadata": {},
   "outputs": [],
   "source": [
    "output$FID <- as.integer(output$FID)\n",
    "output$IID <- as.integer(output$IID)"
   ]
  },
  {
   "cell_type": "code",
   "execution_count": 24,
   "metadata": {},
   "outputs": [],
   "source": [
    "fwrite(output,'../regenie_input/PD_ltfh.txt',sep=' ',na='NA',quote=FALSE)"
   ]
  },
  {
   "cell_type": "code",
   "execution_count": 19,
   "metadata": {},
   "outputs": [],
   "source": [
    "subdata <- data.table(subdata)\n",
    "names(matching) <- c('torkID','IID')\n",
    "names(result_df) <- c('IID','ltfh_cc','ltfh_nosib','ltfh')\n",
    "composite <- merge(matching,subdata)\n",
    "composite <- merge(composite,result_df[,c('IID','ltfh')])\n",
    "composite <- data.table(composite)"
   ]
  },
  {
   "cell_type": "code",
   "execution_count": 20,
   "metadata": {
    "tags": []
   },
   "outputs": [
    {
     "data": {
      "text/html": [
       "<table class=\"dataframe\">\n",
       "<caption>A data.table: 0 × 8</caption>\n",
       "<thead>\n",
       "\t<tr><th scope=col>IID</th><th scope=col>torkID</th><th scope=col>CHILD_STATUS</th><th scope=col>P1_STATUS</th><th scope=col>P2_STATUS</th><th scope=col>NUM_SIBS</th><th scope=col>SIB_STATUS</th><th scope=col>ltfh</th></tr>\n",
       "\t<tr><th scope=col>&lt;chr&gt;</th><th scope=col>&lt;chr&gt;</th><th scope=col>&lt;int&gt;</th><th scope=col>&lt;int&gt;</th><th scope=col>&lt;int&gt;</th><th scope=col>&lt;int&gt;</th><th scope=col>&lt;int&gt;</th><th scope=col>&lt;dbl&gt;</th></tr>\n",
       "</thead>\n",
       "<tbody>\n",
       "</tbody>\n",
       "</table>\n"
      ],
      "text/latex": [
       "A data.table: 0 × 8\n",
       "\\begin{tabular}{llllllll}\n",
       " IID & torkID & CHILD\\_STATUS & P1\\_STATUS & P2\\_STATUS & NUM\\_SIBS & SIB\\_STATUS & ltfh\\\\\n",
       " <chr> & <chr> & <int> & <int> & <int> & <int> & <int> & <dbl>\\\\\n",
       "\\hline\n",
       "\\end{tabular}\n"
      ],
      "text/markdown": [
       "\n",
       "A data.table: 0 × 8\n",
       "\n",
       "| IID &lt;chr&gt; | torkID &lt;chr&gt; | CHILD_STATUS &lt;int&gt; | P1_STATUS &lt;int&gt; | P2_STATUS &lt;int&gt; | NUM_SIBS &lt;int&gt; | SIB_STATUS &lt;int&gt; | ltfh &lt;dbl&gt; |\n",
       "|---|---|---|---|---|---|---|---|\n",
       "\n"
      ],
      "text/plain": [
       "     IID torkID CHILD_STATUS P1_STATUS P2_STATUS NUM_SIBS SIB_STATUS ltfh"
      ]
     },
     "metadata": {},
     "output_type": "display_data"
    }
   ],
   "source": [
    "composite[!is.finite(composite$ltfh),]"
   ]
  },
  {
   "cell_type": "code",
   "execution_count": 21,
   "metadata": {},
   "outputs": [
    {
     "data": {
      "text/html": [
       "<table class=\"dataframe\">\n",
       "<caption>A data.table: 0 × 8</caption>\n",
       "<thead>\n",
       "\t<tr><th scope=col>IID</th><th scope=col>torkID</th><th scope=col>CHILD_STATUS</th><th scope=col>P1_STATUS</th><th scope=col>P2_STATUS</th><th scope=col>NUM_SIBS</th><th scope=col>SIB_STATUS</th><th scope=col>ltfh</th></tr>\n",
       "\t<tr><th scope=col>&lt;chr&gt;</th><th scope=col>&lt;chr&gt;</th><th scope=col>&lt;int&gt;</th><th scope=col>&lt;int&gt;</th><th scope=col>&lt;int&gt;</th><th scope=col>&lt;int&gt;</th><th scope=col>&lt;int&gt;</th><th scope=col>&lt;dbl&gt;</th></tr>\n",
       "</thead>\n",
       "<tbody>\n",
       "</tbody>\n",
       "</table>\n"
      ],
      "text/latex": [
       "A data.table: 0 × 8\n",
       "\\begin{tabular}{llllllll}\n",
       " IID & torkID & CHILD\\_STATUS & P1\\_STATUS & P2\\_STATUS & NUM\\_SIBS & SIB\\_STATUS & ltfh\\\\\n",
       " <chr> & <chr> & <int> & <int> & <int> & <int> & <int> & <dbl>\\\\\n",
       "\\hline\n",
       "\\end{tabular}\n"
      ],
      "text/markdown": [
       "\n",
       "A data.table: 0 × 8\n",
       "\n",
       "| IID &lt;chr&gt; | torkID &lt;chr&gt; | CHILD_STATUS &lt;int&gt; | P1_STATUS &lt;int&gt; | P2_STATUS &lt;int&gt; | NUM_SIBS &lt;int&gt; | SIB_STATUS &lt;int&gt; | ltfh &lt;dbl&gt; |\n",
       "|---|---|---|---|---|---|---|---|\n",
       "\n"
      ],
      "text/plain": [
       "     IID torkID CHILD_STATUS P1_STATUS P2_STATUS NUM_SIBS SIB_STATUS ltfh"
      ]
     },
     "metadata": {},
     "output_type": "display_data"
    }
   ],
   "source": [
    "composite[composite$IID == 5885687]"
   ]
  },
  {
   "cell_type": "code",
   "execution_count": 22,
   "metadata": {},
   "outputs": [
    {
     "data": {
      "text/html": [
       "501141"
      ],
      "text/latex": [
       "501141"
      ],
      "text/markdown": [
       "501141"
      ],
      "text/plain": [
       "[1] 501141"
      ]
     },
     "metadata": {},
     "output_type": "display_data"
    }
   ],
   "source": [
    "length(output$IID)"
   ]
  },
  {
   "cell_type": "code",
   "execution_count": 23,
   "metadata": {},
   "outputs": [
    {
     "data": {
      "text/html": [
       "<table class=\"dataframe\">\n",
       "<caption>A data.table: 1 × 3</caption>\n",
       "<thead>\n",
       "\t<tr><th scope=col>FID</th><th scope=col>IID</th><th scope=col>ltfh</th></tr>\n",
       "\t<tr><th scope=col>&lt;int&gt;</th><th scope=col>&lt;int&gt;</th><th scope=col>&lt;dbl&gt;</th></tr>\n",
       "</thead>\n",
       "<tbody>\n",
       "\t<tr><td>5885687</td><td>5885687</td><td>NA</td></tr>\n",
       "</tbody>\n",
       "</table>\n"
      ],
      "text/latex": [
       "A data.table: 1 × 3\n",
       "\\begin{tabular}{lll}\n",
       " FID & IID & ltfh\\\\\n",
       " <int> & <int> & <dbl>\\\\\n",
       "\\hline\n",
       "\t 5885687 & 5885687 & NA\\\\\n",
       "\\end{tabular}\n"
      ],
      "text/markdown": [
       "\n",
       "A data.table: 1 × 3\n",
       "\n",
       "| FID &lt;int&gt; | IID &lt;int&gt; | ltfh &lt;dbl&gt; |\n",
       "|---|---|---|\n",
       "| 5885687 | 5885687 | NA |\n",
       "\n"
      ],
      "text/plain": [
       "  FID     IID     ltfh\n",
       "1 5885687 5885687 NA  "
      ]
     },
     "metadata": {},
     "output_type": "display_data"
    }
   ],
   "source": [
    "output[is.na(output$ltfh)]"
   ]
  },
  {
   "cell_type": "code",
   "execution_count": null,
   "metadata": {},
   "outputs": [],
   "source": []
  }
 ],
 "metadata": {
  "kernelspec": {
   "display_name": "R",
   "language": "R",
   "name": "ir"
  },
  "language_info": {
   "codemirror_mode": "r",
   "file_extension": ".r",
   "mimetype": "text/x-r-source",
   "name": "R",
   "pygments_lexer": "r",
   "version": "4.0.0"
  }
 },
 "nbformat": 4,
 "nbformat_minor": 4
}
