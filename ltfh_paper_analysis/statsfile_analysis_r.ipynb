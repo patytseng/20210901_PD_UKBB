{
 "cells": [
  {
   "cell_type": "code",
   "execution_count": 1,
   "metadata": {
    "tags": []
   },
   "outputs": [
    {
     "name": "stderr",
     "output_type": "stream",
     "text": [
      "── \u001b[1mAttaching packages\u001b[22m ─────────────────────────────────────── tidyverse 1.3.1 ──\n",
      "\n",
      "\u001b[32m✔\u001b[39m \u001b[34mggplot2\u001b[39m 3.3.5     \u001b[32m✔\u001b[39m \u001b[34mpurrr  \u001b[39m 0.3.4\n",
      "\u001b[32m✔\u001b[39m \u001b[34mtibble \u001b[39m 3.1.4     \u001b[32m✔\u001b[39m \u001b[34mdplyr  \u001b[39m 1.0.7\n",
      "\u001b[32m✔\u001b[39m \u001b[34mtidyr  \u001b[39m 1.1.3     \u001b[32m✔\u001b[39m \u001b[34mstringr\u001b[39m 1.4.0\n",
      "\u001b[32m✔\u001b[39m \u001b[34mreadr  \u001b[39m 2.0.1     \u001b[32m✔\u001b[39m \u001b[34mforcats\u001b[39m 0.5.1\n",
      "\n",
      "── \u001b[1mConflicts\u001b[22m ────────────────────────────────────────── tidyverse_conflicts() ──\n",
      "\u001b[31m✖\u001b[39m \u001b[34mdplyr\u001b[39m::\u001b[32mfilter()\u001b[39m masks \u001b[34mstats\u001b[39m::filter()\n",
      "\u001b[31m✖\u001b[39m \u001b[34mdplyr\u001b[39m::\u001b[32mlag()\u001b[39m    masks \u001b[34mstats\u001b[39m::lag()\n",
      "\n"
     ]
    }
   ],
   "source": [
    "library(tidyverse)\n",
    "library(stringr)\n",
    "library(ggplot2)"
   ]
  },
  {
   "cell_type": "code",
   "execution_count": 2,
   "metadata": {
    "tags": []
   },
   "outputs": [],
   "source": [
    "spectrum_generator <- function(count=100,coverage=2/3,offset=0,reverse=FALSE) {\n",
    "    tau = 2*pi\n",
    "    color = vector('list',3)\n",
    "    coverage = ((-1)^reverse)*coverage\n",
    "    offset = ((-1)^reverse)*offset\n",
    "    for (iter in 1:3) {\n",
    "        values = c()\n",
    "        theta = (offset + iter - 1) * tau/3\n",
    "        for (x in seq(0,tau*coverage,tau*coverage/(count-1))[1:count]) {\n",
    "            values = c(values, cos(x + theta)/2 + 0.5)\n",
    "        }\n",
    "        color[[iter]] = values\n",
    "    }\n",
    "    return(rgb(color[[1]],color[[2]],color[[3]]))\n",
    "}"
   ]
  },
  {
   "cell_type": "code",
   "execution_count": 3,
   "metadata": {},
   "outputs": [],
   "source": [
    "statsfile_path = \"PD.sumstats\""
   ]
  },
  {
   "cell_type": "code",
   "execution_count": 4,
   "metadata": {},
   "outputs": [],
   "source": [
    "gwas_raw <- read.csv(statsfile_path, sep=\"\\t\")"
   ]
  },
  {
   "cell_type": "code",
   "execution_count": 5,
   "metadata": {},
   "outputs": [],
   "source": [
    "names(gwas_raw)[names(gwas_raw) == \"POS\"] <- \"BP\"\n",
    "gwas_raw$LOG10P <- -log10(gwas_raw$P)"
   ]
  },
  {
   "cell_type": "code",
   "execution_count": 6,
   "metadata": {},
   "outputs": [
    {
     "data": {
      "text/html": [
       "<table class=\"dataframe\">\n",
       "<caption>A data.frame: 6 × 13</caption>\n",
       "<thead>\n",
       "\t<tr><th></th><th scope=col>SNP</th><th scope=col>CHR</th><th scope=col>BP</th><th scope=col>A1</th><th scope=col>A2</th><th scope=col>REF</th><th scope=col>EAF</th><th scope=col>Beta</th><th scope=col>se</th><th scope=col>P</th><th scope=col>N</th><th scope=col>INFO</th><th scope=col>LOG10P</th></tr>\n",
       "\t<tr><th></th><th scope=col>&lt;chr&gt;</th><th scope=col>&lt;int&gt;</th><th scope=col>&lt;int&gt;</th><th scope=col>&lt;chr&gt;</th><th scope=col>&lt;chr&gt;</th><th scope=col>&lt;chr&gt;</th><th scope=col>&lt;dbl&gt;</th><th scope=col>&lt;dbl&gt;</th><th scope=col>&lt;dbl&gt;</th><th scope=col>&lt;dbl&gt;</th><th scope=col>&lt;int&gt;</th><th scope=col>&lt;dbl&gt;</th><th scope=col>&lt;dbl&gt;</th></tr>\n",
       "</thead>\n",
       "<tbody>\n",
       "\t<tr><th scope=row>1</th><td>rs10399793 </td><td>1</td><td>49298</td><td>T</td><td>C</td><td>T</td><td>0.37621700</td><td>-0.000281739</td><td>0.000363748</td><td>0.44</td><td>459256</td><td>0.342797</td><td>0.35654732</td></tr>\n",
       "\t<tr><th scope=row>2</th><td>rs2462492  </td><td>1</td><td>54676</td><td>C</td><td>T</td><td>C</td><td>0.59941400</td><td> 0.000113573</td><td>0.000360334</td><td>0.75</td><td>459256</td><td>0.340158</td><td>0.12493874</td></tr>\n",
       "\t<tr><th scope=row>3</th><td>rs3107975  </td><td>1</td><td>55326</td><td>T</td><td>C</td><td>T</td><td>0.99155100</td><td> 0.003083870</td><td>0.002005890</td><td>0.12</td><td>459256</td><td>0.324228</td><td>0.92081875</td></tr>\n",
       "\t<tr><th scope=row>4</th><td>rs74447903 </td><td>1</td><td>57033</td><td>T</td><td>C</td><td>T</td><td>0.99822100</td><td>-0.003113990</td><td>0.004464200</td><td>0.49</td><td>459256</td><td>0.296256</td><td>0.30980392</td></tr>\n",
       "\t<tr><th scope=row>5</th><td>1:70728_C_T</td><td>1</td><td>70728</td><td>C</td><td>T</td><td>C</td><td>0.99783400</td><td>-0.000368448</td><td>0.003631370</td><td>0.92</td><td>459256</td><td>0.365713</td><td>0.03621217</td></tr>\n",
       "\t<tr><th scope=row>6</th><td>rs2462495  </td><td>1</td><td>79033</td><td>A</td><td>G</td><td>A</td><td>0.00129077</td><td>-0.005263570</td><td>0.004622200</td><td>0.25</td><td>459256</td><td>0.536566</td><td>0.60205999</td></tr>\n",
       "</tbody>\n",
       "</table>\n"
      ],
      "text/latex": [
       "A data.frame: 6 × 13\n",
       "\\begin{tabular}{r|lllllllllllll}\n",
       "  & SNP & CHR & BP & A1 & A2 & REF & EAF & Beta & se & P & N & INFO & LOG10P\\\\\n",
       "  & <chr> & <int> & <int> & <chr> & <chr> & <chr> & <dbl> & <dbl> & <dbl> & <dbl> & <int> & <dbl> & <dbl>\\\\\n",
       "\\hline\n",
       "\t1 & rs10399793  & 1 & 49298 & T & C & T & 0.37621700 & -0.000281739 & 0.000363748 & 0.44 & 459256 & 0.342797 & 0.35654732\\\\\n",
       "\t2 & rs2462492   & 1 & 54676 & C & T & C & 0.59941400 &  0.000113573 & 0.000360334 & 0.75 & 459256 & 0.340158 & 0.12493874\\\\\n",
       "\t3 & rs3107975   & 1 & 55326 & T & C & T & 0.99155100 &  0.003083870 & 0.002005890 & 0.12 & 459256 & 0.324228 & 0.92081875\\\\\n",
       "\t4 & rs74447903  & 1 & 57033 & T & C & T & 0.99822100 & -0.003113990 & 0.004464200 & 0.49 & 459256 & 0.296256 & 0.30980392\\\\\n",
       "\t5 & 1:70728\\_C\\_T & 1 & 70728 & C & T & C & 0.99783400 & -0.000368448 & 0.003631370 & 0.92 & 459256 & 0.365713 & 0.03621217\\\\\n",
       "\t6 & rs2462495   & 1 & 79033 & A & G & A & 0.00129077 & -0.005263570 & 0.004622200 & 0.25 & 459256 & 0.536566 & 0.60205999\\\\\n",
       "\\end{tabular}\n"
      ],
      "text/markdown": [
       "\n",
       "A data.frame: 6 × 13\n",
       "\n",
       "| <!--/--> | SNP &lt;chr&gt; | CHR &lt;int&gt; | BP &lt;int&gt; | A1 &lt;chr&gt; | A2 &lt;chr&gt; | REF &lt;chr&gt; | EAF &lt;dbl&gt; | Beta &lt;dbl&gt; | se &lt;dbl&gt; | P &lt;dbl&gt; | N &lt;int&gt; | INFO &lt;dbl&gt; | LOG10P &lt;dbl&gt; |\n",
       "|---|---|---|---|---|---|---|---|---|---|---|---|---|---|\n",
       "| 1 | rs10399793  | 1 | 49298 | T | C | T | 0.37621700 | -0.000281739 | 0.000363748 | 0.44 | 459256 | 0.342797 | 0.35654732 |\n",
       "| 2 | rs2462492   | 1 | 54676 | C | T | C | 0.59941400 |  0.000113573 | 0.000360334 | 0.75 | 459256 | 0.340158 | 0.12493874 |\n",
       "| 3 | rs3107975   | 1 | 55326 | T | C | T | 0.99155100 |  0.003083870 | 0.002005890 | 0.12 | 459256 | 0.324228 | 0.92081875 |\n",
       "| 4 | rs74447903  | 1 | 57033 | T | C | T | 0.99822100 | -0.003113990 | 0.004464200 | 0.49 | 459256 | 0.296256 | 0.30980392 |\n",
       "| 5 | 1:70728_C_T | 1 | 70728 | C | T | C | 0.99783400 | -0.000368448 | 0.003631370 | 0.92 | 459256 | 0.365713 | 0.03621217 |\n",
       "| 6 | rs2462495   | 1 | 79033 | A | G | A | 0.00129077 | -0.005263570 | 0.004622200 | 0.25 | 459256 | 0.536566 | 0.60205999 |\n",
       "\n"
      ],
      "text/plain": [
       "  SNP         CHR BP    A1 A2 REF EAF        Beta         se          P   \n",
       "1 rs10399793  1   49298 T  C  T   0.37621700 -0.000281739 0.000363748 0.44\n",
       "2 rs2462492   1   54676 C  T  C   0.59941400  0.000113573 0.000360334 0.75\n",
       "3 rs3107975   1   55326 T  C  T   0.99155100  0.003083870 0.002005890 0.12\n",
       "4 rs74447903  1   57033 T  C  T   0.99822100 -0.003113990 0.004464200 0.49\n",
       "5 1:70728_C_T 1   70728 C  T  C   0.99783400 -0.000368448 0.003631370 0.92\n",
       "6 rs2462495   1   79033 A  G  A   0.00129077 -0.005263570 0.004622200 0.25\n",
       "  N      INFO     LOG10P    \n",
       "1 459256 0.342797 0.35654732\n",
       "2 459256 0.340158 0.12493874\n",
       "3 459256 0.324228 0.92081875\n",
       "4 459256 0.296256 0.30980392\n",
       "5 459256 0.365713 0.03621217\n",
       "6 459256 0.536566 0.60205999"
      ]
     },
     "metadata": {},
     "output_type": "display_data"
    }
   ],
   "source": [
    "head(gwas_raw)"
   ]
  },
  {
   "cell_type": "code",
   "execution_count": 7,
   "metadata": {},
   "outputs": [],
   "source": [
    "gwas_data <- gwas_raw"
   ]
  },
  {
   "cell_type": "code",
   "execution_count": 8,
   "metadata": {},
   "outputs": [],
   "source": [
    "don <- gwas_data %>% \n",
    "  \n",
    "  # Compute chromosome size\n",
    "  group_by(CHR) %>% \n",
    "  summarise(chr_len=max(BP)) %>% \n",
    "  \n",
    "  # Calculate cumulative position of each chromosome\n",
    "  mutate(tot=cumsum(as.numeric(chr_len))-chr_len) %>%\n",
    "  select(-chr_len) %>%\n",
    "  \n",
    "  # Add this info to the initial dataset\n",
    "  left_join(gwas_data, ., by=c(\"CHR\"=\"CHR\")) %>%\n",
    "  \n",
    "  # Add a cumulative position of each SNP\n",
    "  arrange(CHR, BP) %>%\n",
    "  mutate(BPcum=BP+tot)\n",
    "\n",
    "axisdf <- don %>% group_by(CHR) %>% summarize(center=( max(BPcum) + min(BPcum) ) / 2 )\n",
    "\n",
    "spectrum <- spectrum_generator(\n",
    "    count = 22,\n",
    "    coverage = 5/6,\n",
    "    offset = -0.25,\n",
    "    reverse = TRUE\n",
    ")\n",
    "\n",
    "manplot <- ggplot(don, aes(x=BPcum, y=LOG10P)) +\n",
    "    \n",
    "    # Show all points\n",
    "    geom_point( aes(color=as.factor(CHR)), alpha=1, size=0.2) +\n",
    "    scale_color_manual(values = spectrum) +\n",
    "    \n",
    "    # custom X axis:\n",
    "    scale_x_continuous( label = axisdf$CHR, breaks= axisdf$center ) +\n",
    "    scale_y_continuous(expand = c(0, 0) ) +     # remove space between plot area and x axis\n",
    "  \n",
    "    # Custom theme:\n",
    "    theme_bw() +\n",
    "    theme( \n",
    "      legend.position=\"none\",\n",
    "      panel.border = element_blank(),\n",
    "      panel.grid.major.x = element_blank(),\n",
    "      panel.grid.minor.x = element_blank()\n",
    "    )"
   ]
  },
  {
   "cell_type": "code",
   "execution_count": 9,
   "metadata": {},
   "outputs": [],
   "source": [
    "ggsave('PD_manplot.png', plot=manplot, width=24, height=8, units='cm', dpi=600 )"
   ]
  },
  {
   "cell_type": "code",
   "execution_count": 20,
   "metadata": {},
   "outputs": [],
   "source": [
    "gwas_data <- gwas_raw[abs(gwas_raw$Beta) > gwas_raw$se,]"
   ]
  },
  {
   "cell_type": "code",
   "execution_count": 23,
   "metadata": {},
   "outputs": [
    {
     "data": {
      "text/html": [
       "<table class=\"dataframe\">\n",
       "<caption>A data.frame: 6 × 13</caption>\n",
       "<thead>\n",
       "\t<tr><th></th><th scope=col>SNP</th><th scope=col>CHR</th><th scope=col>BP</th><th scope=col>A1</th><th scope=col>A2</th><th scope=col>REF</th><th scope=col>EAF</th><th scope=col>Beta</th><th scope=col>se</th><th scope=col>P</th><th scope=col>N</th><th scope=col>INFO</th><th scope=col>LOG10P</th></tr>\n",
       "\t<tr><th></th><th scope=col>&lt;chr&gt;</th><th scope=col>&lt;int&gt;</th><th scope=col>&lt;int&gt;</th><th scope=col>&lt;chr&gt;</th><th scope=col>&lt;chr&gt;</th><th scope=col>&lt;chr&gt;</th><th scope=col>&lt;dbl&gt;</th><th scope=col>&lt;dbl&gt;</th><th scope=col>&lt;dbl&gt;</th><th scope=col>&lt;dbl&gt;</th><th scope=col>&lt;int&gt;</th><th scope=col>&lt;dbl&gt;</th><th scope=col>&lt;dbl&gt;</th></tr>\n",
       "</thead>\n",
       "<tbody>\n",
       "\t<tr><th scope=row>3</th><td>rs3107975  </td><td>1</td><td> 55326</td><td>T</td><td>C</td><td>T</td><td>0.99155100</td><td> 0.00308387</td><td>0.00200589</td><td>0.12</td><td>459256</td><td>0.324228</td><td>0.9208188</td></tr>\n",
       "\t<tr><th scope=row>6</th><td>rs2462495  </td><td>1</td><td> 79033</td><td>A</td><td>G</td><td>A</td><td>0.00129077</td><td>-0.00526357</td><td>0.00462220</td><td>0.25</td><td>459256</td><td>0.536566</td><td>0.6020600</td></tr>\n",
       "\t<tr><th scope=row>14</th><td>rs576404767</td><td>1</td><td>544584</td><td>C</td><td>T</td><td>C</td><td>0.99811000</td><td> 0.00336628</td><td>0.00328980</td><td>0.31</td><td>459256</td><td>0.492517</td><td>0.5086383</td></tr>\n",
       "\t<tr><th scope=row>19</th><td>rs538567606</td><td>1</td><td>565196</td><td>T</td><td>C</td><td>T</td><td>0.99769000</td><td> 0.00447451</td><td>0.00349176</td><td>0.20</td><td>459256</td><td>0.369036</td><td>0.6989700</td></tr>\n",
       "\t<tr><th scope=row>37</th><td>rs375217967</td><td>1</td><td>568800</td><td>G</td><td>A</td><td>G</td><td>0.98306800</td><td> 0.00160406</td><td>0.00138525</td><td>0.25</td><td>459256</td><td>0.328855</td><td>0.6020600</td></tr>\n",
       "\t<tr><th scope=row>50</th><td>rs544671234</td><td>1</td><td>705942</td><td>A</td><td>T</td><td>A</td><td>0.99664100</td><td> 0.00246894</td><td>0.00226337</td><td>0.28</td><td>459256</td><td>0.607378</td><td>0.5528420</td></tr>\n",
       "</tbody>\n",
       "</table>\n"
      ],
      "text/latex": [
       "A data.frame: 6 × 13\n",
       "\\begin{tabular}{r|lllllllllllll}\n",
       "  & SNP & CHR & BP & A1 & A2 & REF & EAF & Beta & se & P & N & INFO & LOG10P\\\\\n",
       "  & <chr> & <int> & <int> & <chr> & <chr> & <chr> & <dbl> & <dbl> & <dbl> & <dbl> & <int> & <dbl> & <dbl>\\\\\n",
       "\\hline\n",
       "\t3 & rs3107975   & 1 &  55326 & T & C & T & 0.99155100 &  0.00308387 & 0.00200589 & 0.12 & 459256 & 0.324228 & 0.9208188\\\\\n",
       "\t6 & rs2462495   & 1 &  79033 & A & G & A & 0.00129077 & -0.00526357 & 0.00462220 & 0.25 & 459256 & 0.536566 & 0.6020600\\\\\n",
       "\t14 & rs576404767 & 1 & 544584 & C & T & C & 0.99811000 &  0.00336628 & 0.00328980 & 0.31 & 459256 & 0.492517 & 0.5086383\\\\\n",
       "\t19 & rs538567606 & 1 & 565196 & T & C & T & 0.99769000 &  0.00447451 & 0.00349176 & 0.20 & 459256 & 0.369036 & 0.6989700\\\\\n",
       "\t37 & rs375217967 & 1 & 568800 & G & A & G & 0.98306800 &  0.00160406 & 0.00138525 & 0.25 & 459256 & 0.328855 & 0.6020600\\\\\n",
       "\t50 & rs544671234 & 1 & 705942 & A & T & A & 0.99664100 &  0.00246894 & 0.00226337 & 0.28 & 459256 & 0.607378 & 0.5528420\\\\\n",
       "\\end{tabular}\n"
      ],
      "text/markdown": [
       "\n",
       "A data.frame: 6 × 13\n",
       "\n",
       "| <!--/--> | SNP &lt;chr&gt; | CHR &lt;int&gt; | BP &lt;int&gt; | A1 &lt;chr&gt; | A2 &lt;chr&gt; | REF &lt;chr&gt; | EAF &lt;dbl&gt; | Beta &lt;dbl&gt; | se &lt;dbl&gt; | P &lt;dbl&gt; | N &lt;int&gt; | INFO &lt;dbl&gt; | LOG10P &lt;dbl&gt; |\n",
       "|---|---|---|---|---|---|---|---|---|---|---|---|---|---|\n",
       "| 3 | rs3107975   | 1 |  55326 | T | C | T | 0.99155100 |  0.00308387 | 0.00200589 | 0.12 | 459256 | 0.324228 | 0.9208188 |\n",
       "| 6 | rs2462495   | 1 |  79033 | A | G | A | 0.00129077 | -0.00526357 | 0.00462220 | 0.25 | 459256 | 0.536566 | 0.6020600 |\n",
       "| 14 | rs576404767 | 1 | 544584 | C | T | C | 0.99811000 |  0.00336628 | 0.00328980 | 0.31 | 459256 | 0.492517 | 0.5086383 |\n",
       "| 19 | rs538567606 | 1 | 565196 | T | C | T | 0.99769000 |  0.00447451 | 0.00349176 | 0.20 | 459256 | 0.369036 | 0.6989700 |\n",
       "| 37 | rs375217967 | 1 | 568800 | G | A | G | 0.98306800 |  0.00160406 | 0.00138525 | 0.25 | 459256 | 0.328855 | 0.6020600 |\n",
       "| 50 | rs544671234 | 1 | 705942 | A | T | A | 0.99664100 |  0.00246894 | 0.00226337 | 0.28 | 459256 | 0.607378 | 0.5528420 |\n",
       "\n"
      ],
      "text/plain": [
       "   SNP         CHR BP     A1 A2 REF EAF        Beta        se         P   \n",
       "3  rs3107975   1    55326 T  C  T   0.99155100  0.00308387 0.00200589 0.12\n",
       "6  rs2462495   1    79033 A  G  A   0.00129077 -0.00526357 0.00462220 0.25\n",
       "14 rs576404767 1   544584 C  T  C   0.99811000  0.00336628 0.00328980 0.31\n",
       "19 rs538567606 1   565196 T  C  T   0.99769000  0.00447451 0.00349176 0.20\n",
       "37 rs375217967 1   568800 G  A  G   0.98306800  0.00160406 0.00138525 0.25\n",
       "50 rs544671234 1   705942 A  T  A   0.99664100  0.00246894 0.00226337 0.28\n",
       "   N      INFO     LOG10P   \n",
       "3  459256 0.324228 0.9208188\n",
       "6  459256 0.536566 0.6020600\n",
       "14 459256 0.492517 0.5086383\n",
       "19 459256 0.369036 0.6989700\n",
       "37 459256 0.328855 0.6020600\n",
       "50 459256 0.607378 0.5528420"
      ]
     },
     "metadata": {},
     "output_type": "display_data"
    }
   ],
   "source": [
    "head(gwas_data)"
   ]
  },
  {
   "cell_type": "code",
   "execution_count": 24,
   "metadata": {},
   "outputs": [],
   "source": [
    "don <- gwas_data %>% \n",
    "  \n",
    "  # Compute chromosome size\n",
    "  group_by(CHR) %>% \n",
    "  summarise(chr_len=max(BP)) %>% \n",
    "  \n",
    "  # Calculate cumulative position of each chromosome\n",
    "  mutate(tot=cumsum(as.numeric(chr_len))-chr_len) %>%\n",
    "  select(-chr_len) %>%\n",
    "  \n",
    "  # Add this info to the initial dataset\n",
    "  left_join(gwas_data, ., by=c(\"CHR\"=\"CHR\")) %>%\n",
    "  \n",
    "  # Add a cumulative position of each SNP\n",
    "  arrange(CHR, BP) %>%\n",
    "  mutate(BPcum=BP+tot)\n",
    "\n",
    "axisdf <- don %>% group_by(CHR) %>% summarize(center=( max(BPcum) + min(BPcum) ) / 2 )\n",
    "\n",
    "spectrum <- spectrum_generator(\n",
    "    count = 22,\n",
    "    coverage = 5/6,\n",
    "    offset = -0.25,\n",
    "    reverse = TRUE\n",
    ")\n",
    "\n",
    "manplot <- ggplot(don, aes(x=BPcum, y=LOG10P)) +\n",
    "    \n",
    "    # Show all points\n",
    "    geom_point( aes(color=as.factor(CHR)), alpha=1, size=0.2) +\n",
    "    scale_color_manual(values = spectrum) +\n",
    "    \n",
    "    # custom X axis:\n",
    "    scale_x_continuous( label = axisdf$CHR, breaks= axisdf$center ) +\n",
    "    scale_y_continuous(expand = c(0, 0) ) +     # remove space between plot area and x axis\n",
    "  \n",
    "    # Custom theme:\n",
    "    theme_bw() +\n",
    "    theme( \n",
    "      legend.position=\"none\",\n",
    "      panel.border = element_blank(),\n",
    "      panel.grid.major.x = element_blank(),\n",
    "      panel.grid.minor.x = element_blank()\n",
    "    )"
   ]
  },
  {
   "cell_type": "code",
   "execution_count": 25,
   "metadata": {},
   "outputs": [],
   "source": [
    "ggsave('PD_manplot_reduced.png', plot=manplot, width=24, height=8, units='cm', dpi=600 )"
   ]
  },
  {
   "cell_type": "code",
   "execution_count": null,
   "metadata": {},
   "outputs": [],
   "source": []
  }
 ],
 "metadata": {
  "kernelspec": {
   "display_name": "R",
   "language": "R",
   "name": "ir"
  },
  "language_info": {
   "codemirror_mode": "r",
   "file_extension": ".r",
   "mimetype": "text/x-r-source",
   "name": "R",
   "pygments_lexer": "r",
   "version": "4.0.0"
  }
 },
 "nbformat": 4,
 "nbformat_minor": 4
}
