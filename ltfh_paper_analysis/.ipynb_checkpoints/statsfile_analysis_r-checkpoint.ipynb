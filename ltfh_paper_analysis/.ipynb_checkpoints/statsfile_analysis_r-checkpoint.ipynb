{
 "cells": [
  {
   "cell_type": "code",
   "execution_count": 1,
   "metadata": {
    "tags": []
   },
   "outputs": [
    {
     "name": "stderr",
     "output_type": "stream",
     "text": [
      "── \u001b[1mAttaching packages\u001b[22m ─────────────────────────────────────── tidyverse 1.3.1 ──\n",
      "\n",
      "\u001b[32m✔\u001b[39m \u001b[34mggplot2\u001b[39m 3.3.5     \u001b[32m✔\u001b[39m \u001b[34mpurrr  \u001b[39m 0.3.4\n",
      "\u001b[32m✔\u001b[39m \u001b[34mtibble \u001b[39m 3.1.4     \u001b[32m✔\u001b[39m \u001b[34mdplyr  \u001b[39m 1.0.7\n",
      "\u001b[32m✔\u001b[39m \u001b[34mtidyr  \u001b[39m 1.1.3     \u001b[32m✔\u001b[39m \u001b[34mstringr\u001b[39m 1.4.0\n",
      "\u001b[32m✔\u001b[39m \u001b[34mreadr  \u001b[39m 2.0.1     \u001b[32m✔\u001b[39m \u001b[34mforcats\u001b[39m 0.5.1\n",
      "\n",
      "── \u001b[1mConflicts\u001b[22m ────────────────────────────────────────── tidyverse_conflicts() ──\n",
      "\u001b[31m✖\u001b[39m \u001b[34mdplyr\u001b[39m::\u001b[32mfilter()\u001b[39m masks \u001b[34mstats\u001b[39m::filter()\n",
      "\u001b[31m✖\u001b[39m \u001b[34mdplyr\u001b[39m::\u001b[32mlag()\u001b[39m    masks \u001b[34mstats\u001b[39m::lag()\n",
      "\n"
     ]
    }
   ],
   "source": [
    "library(tidyverse)\n",
    "library(stringr)\n",
    "library(ggplot2)"
   ]
  },
  {
   "cell_type": "code",
   "execution_count": 2,
   "metadata": {},
   "outputs": [],
   "source": [
    "statsfile_path = \"../PCa_ukb_step2_BT.regenie\""
   ]
  },
  {
   "cell_type": "code",
   "execution_count": 4,
   "metadata": {},
   "outputs": [],
   "source": [
    "gwas_raw <- read.csv(statsfile_path, sep=\" \")\n",
    "names(gwas_raw)[names(gwas_raw) == \"CHROM\"] <- \"CHR\"\n",
    "names(gwas_raw)[names(gwas_raw) == \"GENPOS\"] <- \"BP\""
   ]
  },
  {
   "cell_type": "code",
   "execution_count": 9,
   "metadata": {},
   "outputs": [],
   "source": [
    "gwas_data <- gwas_raw"
   ]
  },
  {
   "cell_type": "code",
   "execution_count": 17,
   "metadata": {
    "tags": []
   },
   "outputs": [],
   "source": [
    "spectrum_generator <- function(count=100,coverage=2/3,offset=0,reverse=FALSE) {\n",
    "    tau = 2*pi\n",
    "    color = vector('list',3)\n",
    "    coverage = ((-1)^reverse)*coverage\n",
    "    offset = ((-1)^reverse)*offset\n",
    "    for (iter in 1:3) {\n",
    "        values = c()\n",
    "        theta = (offset + iter - 1) * tau/3\n",
    "        for (x in seq(0,tau*coverage,tau*coverage/(count-1))[1:count]) {\n",
    "            values = c(values, cos(x + theta)/2 + 0.5)\n",
    "        }\n",
    "        color[[iter]] = values\n",
    "    }\n",
    "    return(rgb(color[[1]],color[[2]],color[[3]]))\n",
    "}"
   ]
  },
  {
   "cell_type": "code",
   "execution_count": 18,
   "metadata": {},
   "outputs": [],
   "source": [
    "don <- gwas_data %>% \n",
    "  \n",
    "  # Compute chromosome size\n",
    "  group_by(CHR) %>% \n",
    "  summarise(chr_len=max(BP)) %>% \n",
    "  \n",
    "  # Calculate cumulative position of each chromosome\n",
    "  mutate(tot=cumsum(as.numeric(chr_len))-chr_len) %>%\n",
    "  select(-chr_len) %>%\n",
    "  \n",
    "  # Add this info to the initial dataset\n",
    "  left_join(gwas_data, ., by=c(\"CHR\"=\"CHR\")) %>%\n",
    "  \n",
    "  # Add a cumulative position of each SNP\n",
    "  arrange(CHR, BP) %>%\n",
    "  mutate(BPcum=BP+tot)\n",
    "\n",
    "axisdf <- don %>% group_by(CHR) %>% summarize(center=( max(BPcum) + min(BPcum) ) / 2 )\n",
    "\n",
    "spectrum <- spectrum_generator(\n",
    "    count = 22,\n",
    "    coverage = 5/6,\n",
    "    offset = -0.25,\n",
    "    reverse = TRUE\n",
    ")\n",
    "\n",
    "manplot <- ggplot(don, aes(x=BPcum, y=LOG10P)) +\n",
    "    \n",
    "    # Show all points\n",
    "    geom_point( aes(color=as.factor(CHR)), alpha=1, size=0.2) +\n",
    "    scale_color_manual(values = spectrum) +\n",
    "    \n",
    "    # custom X axis:\n",
    "    scale_x_continuous( label = axisdf$CHR, breaks= axisdf$center ) +\n",
    "    scale_y_continuous(expand = c(0, 0) ) +     # remove space between plot area and x axis\n",
    "  \n",
    "    # Custom theme:\n",
    "    theme_bw() +\n",
    "    theme( \n",
    "      legend.position=\"none\",\n",
    "      panel.border = element_blank(),\n",
    "      panel.grid.major.x = element_blank(),\n",
    "      panel.grid.minor.x = element_blank()\n",
    "    )"
   ]
  },
  {
   "cell_type": "code",
   "execution_count": 19,
   "metadata": {},
   "outputs": [
    {
     "name": "stderr",
     "output_type": "stream",
     "text": [
      "Warning message:\n",
      "“Removed 330 rows containing missing values (geom_point).”\n"
     ]
    }
   ],
   "source": [
    "ggsave('../PCa_manplot.png', plot=manplot, width=24, height=8, units='cm', dpi=600 )"
   ]
  },
  {
   "cell_type": "code",
   "execution_count": null,
   "metadata": {},
   "outputs": [],
   "source": []
  }
 ],
 "metadata": {
  "kernelspec": {
   "display_name": "R",
   "language": "R",
   "name": "ir"
  },
  "language_info": {
   "codemirror_mode": "r",
   "file_extension": ".r",
   "mimetype": "text/x-r-source",
   "name": "R",
   "pygments_lexer": "r",
   "version": "4.0.0"
  }
 },
 "nbformat": 4,
 "nbformat_minor": 4
}
